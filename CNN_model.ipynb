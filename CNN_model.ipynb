{
 "cells": [
  {
   "cell_type": "code",
   "execution_count": 26,
   "metadata": {},
   "outputs": [
    {
     "name": "stdout",
     "output_type": "stream",
     "text": [
      "Congratulations! Connection successful.\n",
      "Data loaded successfully.\n"
     ]
    },
    {
     "name": "stderr",
     "output_type": "stream",
     "text": [
      "C:\\Users\\PC\\AppData\\Local\\Temp\\ipykernel_14428\\2433296586.py:23: UserWarning: pandas only supports SQLAlchemy connectable (engine/connection) or database string URI or sqlite3 DBAPI2 connection. Other DBAPI2 objects are not tested. Please consider using SQLAlchemy.\n",
      "  diabetes_data = pd.read_sql(query, mysql_connection)\n",
      "C:\\Users\\PC\\AppData\\Local\\Temp\\ipykernel_14428\\2433296586.py:28: UserWarning: pandas only supports SQLAlchemy connectable (engine/connection) or database string URI or sqlite3 DBAPI2 connection. Other DBAPI2 objects are not tested. Please consider using SQLAlchemy.\n",
      "  diabetes_data2 = pd.read_sql(query_2, mysql_connection)\n"
     ]
    },
    {
     "name": "stdout",
     "output_type": "stream",
     "text": [
      "Mission successfully completed!\n",
      "Connection closed.\n"
     ]
    }
   ],
   "source": [
    "import pandas as pd\n",
    "import numpy as np\n",
    "import matplotlib.pyplot as plt\n",
    "import seaborn as sns\n",
    "import mysql.connector\n",
    "from sklearn.model_selection import train_test_split\n",
    "from sklearn.preprocessing import StandardScaler\n",
    "import tensorflow as tf\n",
    "from tensorflow.keras.models import Sequential\n",
    "from tensorflow.keras.layers import Conv1D, MaxPooling1D, Flatten, Dense, Dropout\n",
    "from tensorflow.keras.optimizers import Adam\n",
    "from tensorflow.keras.losses import BinaryCrossentropy\n",
    "\n",
    "# Create a MySQL Connection\n",
    "mysql_connection = mysql.connector.connect(user='root', host='localhost', password='Mwende#2001!', database='rest_api')\n",
    "if mysql_connection.is_connected():\n",
    "    print(\"Congratulations! Connection successful.\")\n",
    "else:\n",
    "    print(\"Oops! Connection unsuccessful. Please try again.\")\n",
    "\n",
    "# Query data and add it to a DataFrame\n",
    "query = \"SELECT * FROM DIABETES;\"\n",
    "diabetes_data = pd.read_sql(query, mysql_connection)\n",
    "print(\"Data loaded successfully.\")\n",
    "\n",
    "# Loading the second dataset \n",
    "query_2 = \"SELECT * FROM DIABETES_PREDICTION_DATASET;\"\n",
    "diabetes_data2 = pd.read_sql(query_2, mysql_connection)\n",
    "if diabetes_data2.empty:\n",
    "    print('Mission incomplete.')\n",
    "else:\n",
    "    print('Mission successfully completed!')\n",
    "\n",
    "# Closing the connection\n",
    "mysql_connection.close()\n",
    "print(\"Connection closed.\")\n"
   ]
  },
  {
   "cell_type": "markdown",
   "metadata": {},
   "source": [
    "## Exploratory Data Analysis"
   ]
  },
  {
   "cell_type": "code",
   "execution_count": 27,
   "metadata": {},
   "outputs": [
    {
     "name": "stdout",
     "output_type": "stream",
     "text": [
      "Pregnancies                 0\n",
      "Glucose                     0\n",
      "BloodPressure               0\n",
      "SkinThickness               0\n",
      "Insulin                     0\n",
      "BMI                         0\n",
      "DiabetesPedigreeFunction    0\n",
      "Age                         0\n",
      "Outcome                     0\n",
      "dtype: int64\n"
     ]
    }
   ],
   "source": [
    "# Checking for missing values\n",
    "print(diabetes_data.isnull().sum())"
   ]
  },
  {
   "cell_type": "code",
   "execution_count": 28,
   "metadata": {},
   "outputs": [
    {
     "data": {
      "image/png": "[encoded data removed]",
      "text/plain": [
       "<Figure size 640x480 with 1 Axes>"
      ]
     },
     "metadata": {},
     "output_type": "display_data"
    }
   ],
   "source": [
    "# Checking the distribution of the outcome variable\n",
    "sns.countplot(x='Outcome', data=diabetes_data)\n",
    "plt.title('Distribution of Outcome')\n",
    "plt.show()"
   ]
  },
  {
   "cell_type": "markdown",
   "metadata": {},
   "source": [
    "## Feature Engineering"
   ]
  },
  {
   "cell_type": "code",
   "execution_count": 29,
   "metadata": {},
   "outputs": [],
   "source": [
    "# Splitting the dataset into features and target variable\n",
    "X = diabetes_data.drop('Outcome', axis=1)\n",
    "y = diabetes_data['Outcome']\n",
    "\n",
    "# Splitting the dataset into train and test sets\n",
    "X_train, X_test, y_train, y_test = train_test_split(X, y, test_size=0.2, random_state=42)"
   ]
  },
  {
   "cell_type": "code",
   "execution_count": 30,
   "metadata": {},
   "outputs": [],
   "source": [
    "# Standardizing the features\n",
    "scaler = StandardScaler()\n",
    "X_train_scaled = scaler.fit_transform(X_train)\n",
    "X_test_scaled = scaler.transform(X_test)"
   ]
  },
  {
   "cell_type": "code",
   "execution_count": 31,
   "metadata": {},
   "outputs": [],
   "source": [
    "# Reshaping the features for compatibility with Conv1D\n",
    "input_shape = (8, 1)  # Number of independent features\n",
    "\n",
    "# Reshape the input data for compatibility with Conv1D\n",
    "X_train_reshaped = X_train.values.reshape(-1, input_shape[0], 1)\n",
    "X_test_reshaped = X_test.values.reshape(-1, input_shape[0], 1)"
   ]
  },
  {
   "cell_type": "code",
   "execution_count": 33,
   "metadata": {},
   "outputs": [],
   "source": [
    "# Create the CNN model\n",
    "model = Sequential([\n",
    "    Conv1D(32, kernel_size=3, activation='relu', input_shape=input_shape),\n",
    "    MaxPooling1D(pool_size=1),\n",
    "    Conv1D(64, kernel_size=3, activation='relu'),\n",
    "    MaxPooling1D(pool_size=1),\n",
    "    Conv1D(128, kernel_size=3, activation='relu'),\n",
    "    MaxPooling1D(pool_size=1),\n",
    "    Flatten(),\n",
    "    Dense(128, activation='relu'),\n",
    "    Dropout(0.5),\n",
    "    Dense(1, activation='sigmoid')  # Assuming binary classification (0 or 1)\n",
    "])"
   ]
  },
  {
   "cell_type": "code",
   "execution_count": 34,
   "metadata": {},
   "outputs": [],
   "source": [
    "# Compile the model\n",
    "model.compile(optimizer=Adam(learning_rate=0.001),\n",
    "              loss=BinaryCrossentropy(),\n",
    "              metrics=['accuracy'])"
   ]
  },
  {
   "cell_type": "code",
   "execution_count": 35,
   "metadata": {},
   "outputs": [
    {
     "name": "stdout",
     "output_type": "stream",
     "text": [
      "Model: \"sequential_7\"\n",
      "_________________________________________________________________\n",
      " Layer (type)                Output Shape              Param #   \n",
      "=================================================================\n",
      " conv1d_21 (Conv1D)          (None, 6, 32)             128       \n",
      "                                                                 \n",
      " max_pooling1d_21 (MaxPooli  (None, 6, 32)             0         \n",
      " ng1D)                                                           \n",
      "                                                                 \n",
      " conv1d_22 (Conv1D)          (None, 4, 64)             6208      \n",
      "                                                                 \n",
      " max_pooling1d_22 (MaxPooli  (None, 4, 64)             0         \n",
      " ng1D)                                                           \n",
      "                                                                 \n",
      " conv1d_23 (Conv1D)          (None, 2, 128)            24704     \n",
      "                                                                 \n",
      " max_pooling1d_23 (MaxPooli  (None, 2, 128)            0         \n",
      " ng1D)                                                           \n",
      "                                                                 \n",
      " flatten_7 (Flatten)         (None, 256)               0         \n",
      "                                                                 \n",
      " dense_14 (Dense)            (None, 128)               32896     \n",
      "                                                                 \n",
      " dropout_7 (Dropout)         (None, 128)               0         \n",
      "                                                                 \n",
      " dense_15 (Dense)            (None, 1)                 129       \n",
      "                                                                 \n",
      "=================================================================\n",
      "Total params: 64065 (250.25 KB)\n",
      "Trainable params: 64065 (250.25 KB)\n",
      "Non-trainable params: 0 (0.00 Byte)\n",
      "_________________________________________________________________\n"
     ]
    }
   ],
   "source": [
    "# Print model summary\n",
    "model.summary()"
   ]
  },
  {
   "cell_type": "code",
   "execution_count": 36,
   "metadata": {},
   "outputs": [
    {
     "name": "stdout",
     "output_type": "stream",
     "text": [
      "Epoch 1/10\n",
      "WARNING:tensorflow:From c:\\Users\\PC\\AppData\\Local\\Programs\\Python\\Python311\\Lib\\site-packages\\keras\\src\\utils\\tf_utils.py:492: The name tf.ragged.RaggedTensorValue is deprecated. Please use tf.compat.v1.ragged.RaggedTensorValue instead.\n",
      "\n",
      "WARNING:tensorflow:From c:\\Users\\PC\\AppData\\Local\\Programs\\Python\\Python311\\Lib\\site-packages\\keras\\src\\engine\\base_layer_utils.py:384: The name tf.executing_eagerly_outside_functions is deprecated. Please use tf.compat.v1.executing_eagerly_outside_functions instead.\n",
      "\n",
      "20/20 [==============================] - 3s 36ms/step - loss: 1.3663 - accuracy: 0.5733 - val_loss: 0.7250 - val_accuracy: 0.6818\n",
      "Epoch 2/10\n",
      "20/20 [==============================] - 0s 9ms/step - loss: 0.8811 - accuracy: 0.6140 - val_loss: 0.7264 - val_accuracy: 0.6623\n",
      "Epoch 3/10\n",
      "20/20 [==============================] - 0s 10ms/step - loss: 0.6508 - accuracy: 0.6547 - val_loss: 0.6504 - val_accuracy: 0.6818\n",
      "Epoch 4/10\n",
      "20/20 [==============================] - 0s 10ms/step - loss: 0.6563 - accuracy: 0.6417 - val_loss: 0.6488 - val_accuracy: 0.6558\n",
      "Epoch 5/10\n",
      "20/20 [==============================] - 0s 8ms/step - loss: 0.5985 - accuracy: 0.6922 - val_loss: 0.6390 - val_accuracy: 0.6104\n",
      "Epoch 6/10\n",
      "20/20 [==============================] - 0s 11ms/step - loss: 0.6052 - accuracy: 0.6336 - val_loss: 0.6086 - val_accuracy: 0.7273\n",
      "Epoch 7/10\n",
      "20/20 [==============================] - 0s 9ms/step - loss: 0.6344 - accuracy: 0.6596 - val_loss: 0.6200 - val_accuracy: 0.6688\n",
      "Epoch 8/10\n",
      "20/20 [==============================] - 0s 10ms/step - loss: 0.6047 - accuracy: 0.6743 - val_loss: 0.6455 - val_accuracy: 0.5844\n",
      "Epoch 9/10\n",
      "20/20 [==============================] - 0s 10ms/step - loss: 0.6187 - accuracy: 0.6726 - val_loss: 0.6187 - val_accuracy: 0.6753\n",
      "Epoch 10/10\n",
      "20/20 [==============================] - 0s 24ms/step - loss: 0.6051 - accuracy: 0.6759 - val_loss: 0.6142 - val_accuracy: 0.6818\n"
     ]
    }
   ],
   "source": [
    "# Train the model\n",
    "history = model.fit(X_train_reshaped, y_train,\n",
    "                    epochs=10,\n",
    "                    batch_size=32,\n",
    "                    validation_data=(X_test_reshaped, y_test))"
   ]
  }
 ],
 "metadata": {
  "kernelspec": {
   "display_name": "Python 3",
   "language": "python",
   "name": "python3"
  },
  "language_info": {
   "codemirror_mode": {
    "name": "ipython",
    "version": 3
   },
   "file_extension": ".py",
   "mimetype": "text/x-python",
   "name": "python",
   "nbconvert_exporter": "python",
   "pygments_lexer": "ipython3",
   "version": "3.11.4"
  }
 },
 "nbformat": 4,
 "nbformat_minor": 2
}
