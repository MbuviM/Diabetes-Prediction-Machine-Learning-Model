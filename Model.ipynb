{
 "cells": [
  {
   "cell_type": "markdown",
   "metadata": {},
   "source": [
    "# Diabetes Prediction Model"
   ]
  },
  {
   "cell_type": "code",
   "execution_count": 1,
   "metadata": {},
   "outputs": [],
   "source": [
    "import pandas as pd\n",
    "import sqlalchemy\n",
    "import mysql.connector\n",
    "import imblearn\n",
    "import matplotlib.pyplot as plt\n",
    "import seaborn as sns\n",
    "import numpy as np\n",
    "import joblib"
   ]
  },
  {
   "cell_type": "markdown",
   "metadata": {},
   "source": [
    "## Creating a Database Connection"
   ]
  },
  {
   "cell_type": "code",
   "execution_count": 2,
   "metadata": {},
   "outputs": [
    {
     "name": "stdout",
     "output_type": "stream",
     "text": [
      "Hongera! Connection successful.\n"
     ]
    }
   ],
   "source": [
    "# Create a MySQL Connection\n",
    "mysql_connection = mysql.connector.connect(user = 'root', host = 'localhost', password = 'Mwende#2001!', database = 'rest_api')\n",
    "if mysql_connection.is_connected():\n",
    "    print(\"Hongera! Connection successful.\")\n",
    "\n",
    "else:\n",
    "    print(\"Oops! Connection unsuccessful, try again.\")"
   ]
  },
  {
   "cell_type": "code",
   "execution_count": 3,
   "metadata": {},
   "outputs": [
    {
     "name": "stdout",
     "output_type": "stream",
     "text": [
      "Data loaded successfully.\n"
     ]
    },
    {
     "name": "stderr",
     "output_type": "stream",
     "text": [
      "C:\\Users\\PC\\AppData\\Local\\Temp\\ipykernel_15328\\592648769.py:3: UserWarning: pandas only supports SQLAlchemy connectable (engine/connection) or database string URI or sqlite3 DBAPI2 connection. Other DBAPI2 objects are not tested. Please consider using SQLAlchemy.\n",
      "  diabetes_data = pd.read_sql(query, mysql_connection)\n"
     ]
    }
   ],
   "source": [
    "# Quering data and adding it to a dataframe.\n",
    "query = \"SELECT * FROM DIABETES;\"\n",
    "diabetes_data = pd.read_sql(query, mysql_connection)\n",
    "print(\"Data loaded successfully.\")"
   ]
  },
  {
   "cell_type": "code",
   "execution_count": 4,
   "metadata": {},
   "outputs": [
    {
     "name": "stderr",
     "output_type": "stream",
     "text": [
      "C:\\Users\\PC\\AppData\\Local\\Temp\\ipykernel_15328\\3793410213.py:3: UserWarning: pandas only supports SQLAlchemy connectable (engine/connection) or database string URI or sqlite3 DBAPI2 connection. Other DBAPI2 objects are not tested. Please consider using SQLAlchemy.\n",
      "  diabetes_data2 = pd.read_sql(query_2, mysql_connection)\n"
     ]
    },
    {
     "name": "stdout",
     "output_type": "stream",
     "text": [
      "Mission successfully completed!\n"
     ]
    }
   ],
   "source": [
    "# Loading the second dataset \n",
    "query_2 = \"SELECT * FROM DIABETES_PREDICTION_DATASET;\"\n",
    "diabetes_data2 = pd.read_sql(query_2, mysql_connection)\n",
    "if diabetes_data2.empty:\n",
    "    print('Mission incomplete.')\n",
    "\n",
    "else:\n",
    "    print('Mission successfully completed!')"
   ]
  },
  {
   "cell_type": "code",
   "execution_count": 5,
   "metadata": {},
   "outputs": [
    {
     "name": "stdout",
     "output_type": "stream",
     "text": [
      "Connection closed.\n"
     ]
    }
   ],
   "source": [
    "# Closing the connection\n",
    "mysql_connection.close()\n",
    "print(\"Connection closed.\")"
   ]
  },
  {
   "cell_type": "markdown",
   "metadata": {},
   "source": [
    "# Processes to undertake in this notebook:\n",
    "\n",
    "1.*Exploratory Data Analysis*\n",
    "\n",
    "2.*Feature Engineering*\n",
    "\n",
    "3.*Feature Selection*\n",
    "\n",
    "4.*Model Building*\n",
    "\n",
    "5.*Model Deployment*\n"
   ]
  },
  {
   "cell_type": "markdown",
   "metadata": {},
   "source": [
    "## Exploratory Data Analysis \n",
    "\n",
    "- The main aim is to understand the dataset better.\n",
    "\n",
    "**To-Analyze**\n",
    "1. Missing values.\n",
    "\n",
    "2. Check for numerical variables.\n",
    "\n",
    "3. Check for Categorical variables.\n",
    "\n",
    "4. Distribution of the variables.\n",
    "\n",
    "5. Check for outliers.\n",
    "\n",
    "6. Relationship between the independent variables and dependent variable (Outcome)"
   ]
  },
  {
   "cell_type": "code",
   "execution_count": 6,
   "metadata": {},
   "outputs": [
    {
     "data": {
      "text/html": [
       "<div>\n",
       "<style scoped>\n",
       "    .dataframe tbody tr th:only-of-type {\n",
       "        vertical-align: middle;\n",
       "    }\n",
       "\n",
       "    .dataframe tbody tr th {\n",
       "        vertical-align: top;\n",
       "    }\n",
       "\n",
       "    .dataframe thead th {\n",
       "        text-align: right;\n",
       "    }\n",
       "</style>\n",
       "<table border=\"1\" class=\"dataframe\">\n",
       "  <thead>\n",
       "    <tr style=\"text-align: right;\">\n",
       "      <th></th>\n",
       "      <th>Pregnancies</th>\n",
       "      <th>Glucose</th>\n",
       "      <th>BloodPressure</th>\n",
       "      <th>SkinThickness</th>\n",
       "      <th>Insulin</th>\n",
       "      <th>BMI</th>\n",
       "      <th>DiabetesPedigreeFunction</th>\n",
       "      <th>Age</th>\n",
       "      <th>Outcome</th>\n",
       "    </tr>\n",
       "  </thead>\n",
       "  <tbody>\n",
       "    <tr>\n",
       "      <th>665</th>\n",
       "      <td>1</td>\n",
       "      <td>112</td>\n",
       "      <td>80</td>\n",
       "      <td>45</td>\n",
       "      <td>132</td>\n",
       "      <td>34.8</td>\n",
       "      <td>0.217</td>\n",
       "      <td>24</td>\n",
       "      <td>0</td>\n",
       "    </tr>\n",
       "    <tr>\n",
       "      <th>762</th>\n",
       "      <td>9</td>\n",
       "      <td>89</td>\n",
       "      <td>62</td>\n",
       "      <td>0</td>\n",
       "      <td>0</td>\n",
       "      <td>22.5</td>\n",
       "      <td>0.142</td>\n",
       "      <td>33</td>\n",
       "      <td>0</td>\n",
       "    </tr>\n",
       "    <tr>\n",
       "      <th>312</th>\n",
       "      <td>2</td>\n",
       "      <td>155</td>\n",
       "      <td>74</td>\n",
       "      <td>17</td>\n",
       "      <td>96</td>\n",
       "      <td>26.6</td>\n",
       "      <td>0.433</td>\n",
       "      <td>27</td>\n",
       "      <td>1</td>\n",
       "    </tr>\n",
       "    <tr>\n",
       "      <th>344</th>\n",
       "      <td>8</td>\n",
       "      <td>95</td>\n",
       "      <td>72</td>\n",
       "      <td>0</td>\n",
       "      <td>0</td>\n",
       "      <td>36.8</td>\n",
       "      <td>0.485</td>\n",
       "      <td>57</td>\n",
       "      <td>0</td>\n",
       "    </tr>\n",
       "    <tr>\n",
       "      <th>311</th>\n",
       "      <td>0</td>\n",
       "      <td>106</td>\n",
       "      <td>70</td>\n",
       "      <td>37</td>\n",
       "      <td>148</td>\n",
       "      <td>39.4</td>\n",
       "      <td>0.605</td>\n",
       "      <td>22</td>\n",
       "      <td>0</td>\n",
       "    </tr>\n",
       "    <tr>\n",
       "      <th>44</th>\n",
       "      <td>7</td>\n",
       "      <td>159</td>\n",
       "      <td>64</td>\n",
       "      <td>0</td>\n",
       "      <td>0</td>\n",
       "      <td>27.4</td>\n",
       "      <td>0.294</td>\n",
       "      <td>40</td>\n",
       "      <td>0</td>\n",
       "    </tr>\n",
       "    <tr>\n",
       "      <th>703</th>\n",
       "      <td>2</td>\n",
       "      <td>129</td>\n",
       "      <td>0</td>\n",
       "      <td>0</td>\n",
       "      <td>0</td>\n",
       "      <td>38.5</td>\n",
       "      <td>0.304</td>\n",
       "      <td>41</td>\n",
       "      <td>0</td>\n",
       "    </tr>\n",
       "    <tr>\n",
       "      <th>647</th>\n",
       "      <td>0</td>\n",
       "      <td>179</td>\n",
       "      <td>50</td>\n",
       "      <td>36</td>\n",
       "      <td>159</td>\n",
       "      <td>37.8</td>\n",
       "      <td>0.455</td>\n",
       "      <td>22</td>\n",
       "      <td>1</td>\n",
       "    </tr>\n",
       "    <tr>\n",
       "      <th>95</th>\n",
       "      <td>6</td>\n",
       "      <td>144</td>\n",
       "      <td>72</td>\n",
       "      <td>27</td>\n",
       "      <td>228</td>\n",
       "      <td>33.9</td>\n",
       "      <td>0.255</td>\n",
       "      <td>40</td>\n",
       "      <td>0</td>\n",
       "    </tr>\n",
       "    <tr>\n",
       "      <th>102</th>\n",
       "      <td>0</td>\n",
       "      <td>125</td>\n",
       "      <td>96</td>\n",
       "      <td>0</td>\n",
       "      <td>0</td>\n",
       "      <td>22.5</td>\n",
       "      <td>0.262</td>\n",
       "      <td>21</td>\n",
       "      <td>0</td>\n",
       "    </tr>\n",
       "  </tbody>\n",
       "</table>\n",
       "</div>"
      ],
      "text/plain": [
       "     Pregnancies  Glucose  BloodPressure  SkinThickness  Insulin   BMI  \\\n",
       "665            1      112             80             45      132  34.8   \n",
       "762            9       89             62              0        0  22.5   \n",
       "312            2      155             74             17       96  26.6   \n",
       "344            8       95             72              0        0  36.8   \n",
       "311            0      106             70             37      148  39.4   \n",
       "44             7      159             64              0        0  27.4   \n",
       "703            2      129              0              0        0  38.5   \n",
       "647            0      179             50             36      159  37.8   \n",
       "95             6      144             72             27      228  33.9   \n",
       "102            0      125             96              0        0  22.5   \n",
       "\n",
       "     DiabetesPedigreeFunction  Age  Outcome  \n",
       "665                     0.217   24        0  \n",
       "762                     0.142   33        0  \n",
       "312                     0.433   27        1  \n",
       "344                     0.485   57        0  \n",
       "311                     0.605   22        0  \n",
       "44                      0.294   40        0  \n",
       "703                     0.304   41        0  \n",
       "647                     0.455   22        1  \n",
       "95                      0.255   40        0  \n",
       "102                     0.262   21        0  "
      ]
     },
     "execution_count": 6,
     "metadata": {},
     "output_type": "execute_result"
    }
   ],
   "source": [
    "# Checking a random sample of the dataset\n",
    "diabetes_data.sample(10)"
   ]
  },
  {
   "cell_type": "code",
   "execution_count": 7,
   "metadata": {},
   "outputs": [
    {
     "name": "stdout",
     "output_type": "stream",
     "text": [
      "Pregnancies 0.0 %\n",
      "Glucose 0.0 %\n",
      "BloodPressure 0.0 %\n",
      "SkinThickness 0.0 %\n",
      "Insulin 0.0 %\n",
      "BMI 0.0 %\n",
      "DiabetesPedigreeFunction 0.0 %\n",
      "Age 0.0 %\n",
      "Outcome 0.0 %\n"
     ]
    }
   ],
   "source": [
    "# Checking for missing values\n",
    "diabetes_data.isnull().sum()\n",
    "\n",
    "for feature in diabetes_data:\n",
    "    print(feature, np.round(diabetes_data[feature].isnull().mean(), 1),'%')"
   ]
  },
  {
   "cell_type": "code",
   "execution_count": 8,
   "metadata": {},
   "outputs": [
    {
     "name": "stdout",
     "output_type": "stream",
     "text": [
      "The total rows in the dataset are 768.\n"
     ]
    }
   ],
   "source": [
    "print(f\"The total rows in the dataset are {len(diabetes_data['Outcome'])}.\")"
   ]
  },
  {
   "cell_type": "markdown",
   "metadata": {},
   "source": [
    "### Numerical Variables"
   ]
  },
  {
   "cell_type": "code",
   "execution_count": 9,
   "metadata": {},
   "outputs": [
    {
     "name": "stdout",
     "output_type": "stream",
     "text": [
      "There are 9 numerical columns.\n"
     ]
    }
   ],
   "source": [
    "numerical_columns = []\n",
    "for feature in diabetes_data:\n",
    "    if diabetes_data[feature].dtype != 'object':\n",
    "        numerical_columns.append(feature)\n",
    "\n",
    "\n",
    "print(f\"There are {len(numerical_columns)} numerical columns.\")"
   ]
  },
  {
   "cell_type": "code",
   "execution_count": 10,
   "metadata": {},
   "outputs": [
    {
     "name": "stdout",
     "output_type": "stream",
     "text": [
      "['Pregnancies', 'Glucose', 'BloodPressure', 'SkinThickness', 'Insulin', 'BMI', 'DiabetesPedigreeFunction', 'Age', 'Outcome']\n"
     ]
    }
   ],
   "source": [
    "print(numerical_columns)"
   ]
  },
  {
   "cell_type": "markdown",
   "metadata": {},
   "source": [
    "### Continuous Variables"
   ]
  },
  {
   "cell_type": "code",
   "execution_count": 11,
   "metadata": {},
   "outputs": [
    {
     "name": "stdout",
     "output_type": "stream",
     "text": [
      "There are 0 categorical columns.\n"
     ]
    }
   ],
   "source": [
    "numerical_columns = []\n",
    "for feature in diabetes_data:\n",
    "    if diabetes_data[feature].dtype == 'object':\n",
    "        numerical_columns.append(feature)\n",
    "\n",
    "\n",
    "print(f\"There are {len(numerical_columns)} categorical columns.\")"
   ]
  },
  {
   "cell_type": "markdown",
   "metadata": {},
   "source": [
    "### Multivariate Analysis"
   ]
  },
  {
   "cell_type": "code",
   "execution_count": 12,
   "metadata": {},
   "outputs": [],
   "source": [
    "# sns.pairplot(data=diabetes_data, kind='reg')"
   ]
  },
  {
   "cell_type": "code",
   "execution_count": 13,
   "metadata": {},
   "outputs": [
    {
     "data": {
      "text/html": [
       "<div>\n",
       "<style scoped>\n",
       "    .dataframe tbody tr th:only-of-type {\n",
       "        vertical-align: middle;\n",
       "    }\n",
       "\n",
       "    .dataframe tbody tr th {\n",
       "        vertical-align: top;\n",
       "    }\n",
       "\n",
       "    .dataframe thead th {\n",
       "        text-align: right;\n",
       "    }\n",
       "</style>\n",
       "<table border=\"1\" class=\"dataframe\">\n",
       "  <thead>\n",
       "    <tr style=\"text-align: right;\">\n",
       "      <th></th>\n",
       "      <th>Pregnancies</th>\n",
       "      <th>Glucose</th>\n",
       "      <th>BloodPressure</th>\n",
       "      <th>SkinThickness</th>\n",
       "      <th>Insulin</th>\n",
       "      <th>BMI</th>\n",
       "      <th>DiabetesPedigreeFunction</th>\n",
       "      <th>Age</th>\n",
       "      <th>Outcome</th>\n",
       "    </tr>\n",
       "  </thead>\n",
       "  <tbody>\n",
       "    <tr>\n",
       "      <th>Pregnancies</th>\n",
       "      <td>1.000000</td>\n",
       "      <td>0.129459</td>\n",
       "      <td>0.141282</td>\n",
       "      <td>-0.081672</td>\n",
       "      <td>-0.073535</td>\n",
       "      <td>0.017683</td>\n",
       "      <td>-0.033523</td>\n",
       "      <td>0.544341</td>\n",
       "      <td>0.221898</td>\n",
       "    </tr>\n",
       "    <tr>\n",
       "      <th>Glucose</th>\n",
       "      <td>0.129459</td>\n",
       "      <td>1.000000</td>\n",
       "      <td>0.152590</td>\n",
       "      <td>0.057328</td>\n",
       "      <td>0.331357</td>\n",
       "      <td>0.221071</td>\n",
       "      <td>0.137337</td>\n",
       "      <td>0.263514</td>\n",
       "      <td>0.466581</td>\n",
       "    </tr>\n",
       "    <tr>\n",
       "      <th>BloodPressure</th>\n",
       "      <td>0.141282</td>\n",
       "      <td>0.152590</td>\n",
       "      <td>1.000000</td>\n",
       "      <td>0.207371</td>\n",
       "      <td>0.088933</td>\n",
       "      <td>0.281805</td>\n",
       "      <td>0.041265</td>\n",
       "      <td>0.239528</td>\n",
       "      <td>0.065068</td>\n",
       "    </tr>\n",
       "    <tr>\n",
       "      <th>SkinThickness</th>\n",
       "      <td>-0.081672</td>\n",
       "      <td>0.057328</td>\n",
       "      <td>0.207371</td>\n",
       "      <td>1.000000</td>\n",
       "      <td>0.436783</td>\n",
       "      <td>0.392573</td>\n",
       "      <td>0.183928</td>\n",
       "      <td>-0.113970</td>\n",
       "      <td>0.074752</td>\n",
       "    </tr>\n",
       "    <tr>\n",
       "      <th>Insulin</th>\n",
       "      <td>-0.073535</td>\n",
       "      <td>0.331357</td>\n",
       "      <td>0.088933</td>\n",
       "      <td>0.436783</td>\n",
       "      <td>1.000000</td>\n",
       "      <td>0.197859</td>\n",
       "      <td>0.185071</td>\n",
       "      <td>-0.042163</td>\n",
       "      <td>0.130548</td>\n",
       "    </tr>\n",
       "    <tr>\n",
       "      <th>BMI</th>\n",
       "      <td>0.017683</td>\n",
       "      <td>0.221071</td>\n",
       "      <td>0.281805</td>\n",
       "      <td>0.392573</td>\n",
       "      <td>0.197859</td>\n",
       "      <td>1.000000</td>\n",
       "      <td>0.140647</td>\n",
       "      <td>0.036242</td>\n",
       "      <td>0.292695</td>\n",
       "    </tr>\n",
       "    <tr>\n",
       "      <th>DiabetesPedigreeFunction</th>\n",
       "      <td>-0.033523</td>\n",
       "      <td>0.137337</td>\n",
       "      <td>0.041265</td>\n",
       "      <td>0.183928</td>\n",
       "      <td>0.185071</td>\n",
       "      <td>0.140647</td>\n",
       "      <td>1.000000</td>\n",
       "      <td>0.033561</td>\n",
       "      <td>0.173844</td>\n",
       "    </tr>\n",
       "    <tr>\n",
       "      <th>Age</th>\n",
       "      <td>0.544341</td>\n",
       "      <td>0.263514</td>\n",
       "      <td>0.239528</td>\n",
       "      <td>-0.113970</td>\n",
       "      <td>-0.042163</td>\n",
       "      <td>0.036242</td>\n",
       "      <td>0.033561</td>\n",
       "      <td>1.000000</td>\n",
       "      <td>0.238356</td>\n",
       "    </tr>\n",
       "    <tr>\n",
       "      <th>Outcome</th>\n",
       "      <td>0.221898</td>\n",
       "      <td>0.466581</td>\n",
       "      <td>0.065068</td>\n",
       "      <td>0.074752</td>\n",
       "      <td>0.130548</td>\n",
       "      <td>0.292695</td>\n",
       "      <td>0.173844</td>\n",
       "      <td>0.238356</td>\n",
       "      <td>1.000000</td>\n",
       "    </tr>\n",
       "  </tbody>\n",
       "</table>\n",
       "</div>"
      ],
      "text/plain": [
       "                          Pregnancies   Glucose  BloodPressure  SkinThickness  \\\n",
       "Pregnancies                  1.000000  0.129459       0.141282      -0.081672   \n",
       "Glucose                      0.129459  1.000000       0.152590       0.057328   \n",
       "BloodPressure                0.141282  0.152590       1.000000       0.207371   \n",
       "SkinThickness               -0.081672  0.057328       0.207371       1.000000   \n",
       "Insulin                     -0.073535  0.331357       0.088933       0.436783   \n",
       "BMI                          0.017683  0.221071       0.281805       0.392573   \n",
       "DiabetesPedigreeFunction    -0.033523  0.137337       0.041265       0.183928   \n",
       "Age                          0.544341  0.263514       0.239528      -0.113970   \n",
       "Outcome                      0.221898  0.466581       0.065068       0.074752   \n",
       "\n",
       "                           Insulin       BMI  DiabetesPedigreeFunction  \\\n",
       "Pregnancies              -0.073535  0.017683                 -0.033523   \n",
       "Glucose                   0.331357  0.221071                  0.137337   \n",
       "BloodPressure             0.088933  0.281805                  0.041265   \n",
       "SkinThickness             0.436783  0.392573                  0.183928   \n",
       "Insulin                   1.000000  0.197859                  0.185071   \n",
       "BMI                       0.197859  1.000000                  0.140647   \n",
       "DiabetesPedigreeFunction  0.185071  0.140647                  1.000000   \n",
       "Age                      -0.042163  0.036242                  0.033561   \n",
       "Outcome                   0.130548  0.292695                  0.173844   \n",
       "\n",
       "                               Age   Outcome  \n",
       "Pregnancies               0.544341  0.221898  \n",
       "Glucose                   0.263514  0.466581  \n",
       "BloodPressure             0.239528  0.065068  \n",
       "SkinThickness            -0.113970  0.074752  \n",
       "Insulin                  -0.042163  0.130548  \n",
       "BMI                       0.036242  0.292695  \n",
       "DiabetesPedigreeFunction  0.033561  0.173844  \n",
       "Age                       1.000000  0.238356  \n",
       "Outcome                   0.238356  1.000000  "
      ]
     },
     "execution_count": 13,
     "metadata": {},
     "output_type": "execute_result"
    }
   ],
   "source": [
    "# Correlation\n",
    "diabetes_data.corr()"
   ]
  },
  {
   "cell_type": "markdown",
   "metadata": {},
   "source": [
    "### Outliers\n",
    "- Methods to detect outliers are:\n",
    "\n",
    "a) Z-Score Method\n",
    "\n",
    "b) Inter-quartile Range Method (IQR)\n",
    "\n",
    "c) Percentile Method\n",
    "\n",
    "- To remove outliers, two methods can be used. \n",
    "\n",
    "i) Capping. This is converting the outliers to uper and lower limits.\n",
    "\n",
    "ii) Trimming. Deleting the outliers."
   ]
  },
  {
   "cell_type": "code",
   "execution_count": 14,
   "metadata": {},
   "outputs": [
    {
     "name": "stdout",
     "output_type": "stream",
     "text": [
      "Upper Limit for Pregnancies, 13.953786271429943\n",
      "Lower Limit for Pregnancies, -6.263682104763275\n",
      "Total number of outliers in Pregnancies: 4\n",
      "Upper Limit for Glucose, 216.81238583540866\n",
      "Lower Limit for Glucose, 24.976676664591338\n",
      "Total number of outliers in Glucose: 5\n",
      "Upper Limit for BloodPressure, 127.17289026193433\n",
      "Lower Limit for BloodPressure, 11.038047238065673\n",
      "Total number of outliers in BloodPressure: 35\n",
      "Upper Limit for SkinThickness, 68.39311103651625\n",
      "Lower Limit for SkinThickness, -27.320194369849577\n",
      "Total number of outliers in SkinThickness: 1\n",
      "Upper Limit for Insulin, 425.5314862206812\n",
      "Lower Limit for Insulin, -265.9325278873478\n",
      "Total number of outliers in Insulin: 18\n",
      "Upper Limit for BMI, 55.64505908612634\n",
      "Lower Limit for BMI, 8.340097163873661\n",
      "Total number of outliers in BMI: 14\n",
      "Upper Limit for DiabetesPedigreeFunction, 1.4658620871216579\n",
      "Lower Limit for DiabetesPedigreeFunction, -0.5221094829549915\n",
      "Total number of outliers in DiabetesPedigreeFunction: 11\n",
      "Upper Limit for Age, 68.52158003870272\n",
      "Lower Limit for Age, -2.0398092053693873\n",
      "Total number of outliers in Age: 5\n",
      "Upper Limit for Outcome, 1.7798124650617302\n",
      "Lower Limit for Outcome, -1.0818957983950637\n",
      "Total number of outliers in Outcome: 0\n"
     ]
    }
   ],
   "source": [
    "# Detecting outliers per column using Z-score \n",
    "\n",
    "for column in diabetes_data:\n",
    "\n",
    "    upper_limit = diabetes_data[column].mean() + 3 * diabetes_data[column].std()\n",
    "    lower_limit =  diabetes_data[column].mean() - 3 * diabetes_data[column].std()\n",
    "\n",
    "    print(f\"Upper Limit for {column}, {upper_limit}\")\n",
    "    print(f\"Lower Limit for {column}, {lower_limit}\")\n",
    "\n",
    "    outliers = diabetes_data.loc[(diabetes_data[column] > upper_limit) | (diabetes_data[column] < lower_limit)]\n",
    "\n",
    "    total_outliers_per_column = len(outliers)\n",
    "\n",
    "    print(f\"Total number of outliers in {column}: {total_outliers_per_column}\")\n"
   ]
  },
  {
   "cell_type": "code",
   "execution_count": 15,
   "metadata": {},
   "outputs": [
    {
     "name": "stdout",
     "output_type": "stream",
     "text": [
      "Total number of outliers in Pregnancies: 0\n",
      "Total number of outliers in Glucose: 0\n",
      "Total number of outliers in BloodPressure: 0\n",
      "Total number of outliers in SkinThickness: 0\n",
      "Total number of outliers in Insulin: 0\n",
      "Total number of outliers in BMI: 0\n",
      "Total number of outliers in DiabetesPedigreeFunction: 0\n",
      "Total number of outliers in Age: 0\n",
      "Total number of outliers in Outcome: 0\n"
     ]
    }
   ],
   "source": [
    "# Capping the outliers\n",
    "# Creating a copy of the dataset\n",
    "diabetes_data_copy = diabetes_data.copy()\n",
    "\n",
    "# Performing the capping\n",
    "for column in diabetes_data_copy:\n",
    "\n",
    "    diabetes_data_copy.loc[diabetes_data_copy[column] > upper_limit, column] = upper_limit\n",
    "    diabetes_data_copy.loc[diabetes_data_copy[column] < lower_limit, column] = lower_limit\n",
    "\n",
    "    outliers = diabetes_data_copy.loc[(diabetes_data_copy[column] > upper_limit) | (diabetes_data_copy[column] < lower_limit)]\n",
    "\n",
    "    total_outliers_per_column = len(outliers)\n",
    "\n",
    "    print(f\"Total number of outliers in {column}: {total_outliers_per_column}\")\n"
   ]
  },
  {
   "cell_type": "markdown",
   "metadata": {},
   "source": [
    "## Feature Engineering\n",
    "\n",
    "- Consists of:\n",
    "\n",
    "i) Handling imbalance datasets\n",
    "\n",
    "ii) Encoding\n",
    "\n",
    "iii) Min-Max Scaling\n",
    "\n",
    "iv) Dimensionality\n",
    "\n",
    "v)Log Transformation\n",
    "\n",
    "vi) Normalization\n",
    "\n",
    "vii) Standardization\n",
    "\n",
    "viii) Feature Selection"
   ]
  },
  {
   "cell_type": "markdown",
   "metadata": {},
   "source": [
    "### Handling an Imbalanced Dataset\n",
    "The library to be used is imbalance-learn."
   ]
  },
  {
   "cell_type": "code",
   "execution_count": 16,
   "metadata": {},
   "outputs": [
    {
     "data": {
      "text/plain": [
       "([<matplotlib.patches.Wedge at 0x1078d9e3c90>,\n",
       "  <matplotlib.patches.Wedge at 0x1078a1bc4d0>],\n",
       " [Text(-0.5025943242672991, 0.9784676515931925, '0.0'),\n",
       "  Text(0.5025944158780503, -0.9784676045369114, '1.0')],\n",
       " [Text(-0.27414235869125403, 0.5337096281417413, '65.1%'),\n",
       "  Text(0.2741424086607547, -0.5337096024746789, '34.9%')])"
      ]
     },
     "execution_count": 16,
     "metadata": {},
     "output_type": "execute_result"
    },
    {
     "data": {
      "image/png": "[encoded data removed]",
      "text/plain": [
       "<Figure size 640x480 with 1 Axes>"
      ]
     },
     "metadata": {},
     "output_type": "display_data"
    }
   ],
   "source": [
    "outcome_value_counts = diabetes_data_copy['Outcome'].value_counts()\n",
    "\n",
    "plt.pie(outcome_value_counts, labels=outcome_value_counts.index, autopct='%1.1f%%')"
   ]
  },
  {
   "cell_type": "markdown",
   "metadata": {},
   "source": [
    "Using the outcome below, it clearly shows that the '0' outcome is the majority with 65.1% while the '1' outcome has a 34.9% turnout. This makes the dataset imbalanced."
   ]
  },
  {
   "cell_type": "code",
   "execution_count": 17,
   "metadata": {},
   "outputs": [],
   "source": [
    "X = diabetes_data_copy.drop(['Outcome'], axis=1)\n",
    "y = diabetes_data_copy['Outcome']"
   ]
  },
  {
   "cell_type": "code",
   "execution_count": 18,
   "metadata": {},
   "outputs": [],
   "source": [
    "# Handling imbalance by using Random Undersampling\n",
    "Random = imblearn.over_sampling.SMOTE(sampling_strategy='auto', k_neighbors=5, random_state=None, n_jobs=None) "
   ]
  },
  {
   "cell_type": "code",
   "execution_count": 19,
   "metadata": {},
   "outputs": [],
   "source": [
    "X_resampled, y_resampled = Random.fit_resample(X, y)"
   ]
  },
  {
   "cell_type": "code",
   "execution_count": 20,
   "metadata": {},
   "outputs": [
    {
     "name": "stdout",
     "output_type": "stream",
     "text": [
      "This is y total values Outcome\n",
      "0.0    500\n",
      "1.0    268\n",
      "Name: count, dtype: int64\n"
     ]
    }
   ],
   "source": [
    "print(f'This is y total values {y.value_counts()}')"
   ]
  },
  {
   "cell_type": "code",
   "execution_count": 21,
   "metadata": {},
   "outputs": [
    {
     "name": "stdout",
     "output_type": "stream",
     "text": [
      "This is y_resampled total values Outcome\n",
      "1.0    500\n",
      "0.0    500\n",
      "Name: count, dtype: int64\n"
     ]
    }
   ],
   "source": [
    "print(f'This is y_resampled total values {y_resampled.value_counts()}')"
   ]
  },
  {
   "cell_type": "code",
   "execution_count": 22,
   "metadata": {},
   "outputs": [
    {
     "name": "stdout",
     "output_type": "stream",
     "text": [
      "<class 'pandas.core.frame.DataFrame'>\n",
      "RangeIndex: 1000 entries, 0 to 999\n",
      "Data columns (total 8 columns):\n",
      " #   Column                    Non-Null Count  Dtype  \n",
      "---  ------                    --------------  -----  \n",
      " 0   Pregnancies               1000 non-null   float64\n",
      " 1   Glucose                   1000 non-null   float64\n",
      " 2   BloodPressure             1000 non-null   float64\n",
      " 3   SkinThickness             1000 non-null   float64\n",
      " 4   Insulin                   1000 non-null   float64\n",
      " 5   BMI                       1000 non-null   float64\n",
      " 6   DiabetesPedigreeFunction  1000 non-null   float64\n",
      " 7   Age                       1000 non-null   float64\n",
      "dtypes: float64(8)\n",
      "memory usage: 62.6 KB\n"
     ]
    }
   ],
   "source": [
    "X_resampled.info()"
   ]
  },
  {
   "cell_type": "code",
   "execution_count": 23,
   "metadata": {},
   "outputs": [
    {
     "name": "stdout",
     "output_type": "stream",
     "text": [
      "Pregnancies [1.77981247 1.         0.         1.71732953 0.47192381]\n",
      "Glucose [1.77981247 0.         1.62993792]\n",
      "BloodPressure [1.77981247 0.         1.565941   1.27084919]\n",
      "SkinThickness [1.77981247 0.         0.15864991]\n",
      "Insulin [0.         1.77981247]\n",
      "BMI [1.77981247 0.        ]\n",
      "DiabetesPedigreeFunction [0.627      0.351      0.672      0.167      1.77981247 0.201\n",
      " 0.248      0.134      0.158      0.232      0.191      0.537\n",
      " 1.441      0.398      0.587      0.484      0.551      0.254\n",
      " 0.183      0.529      0.704      0.388      0.451      0.263\n",
      " 0.205      0.257      0.487      0.245      0.337      0.546\n",
      " 0.851      0.267      0.188      0.512      0.966      0.42\n",
      " 0.665      0.503      1.39       0.271      0.696      0.235\n",
      " 0.721      0.294      0.564      0.586      0.344      0.305\n",
      " 0.491      0.526      0.342      0.467      0.718      0.962\n",
      " 0.173      0.304      0.27       0.699      0.258      0.203\n",
      " 0.855      0.845      0.334      0.189      0.867      0.411\n",
      " 0.583      0.231      0.396      0.14       0.391      0.37\n",
      " 0.307      0.102      0.767      0.237      0.227      0.698\n",
      " 0.178      0.324      0.153      0.165      0.443      0.261\n",
      " 0.277      0.761      0.255      0.13       0.323      0.356\n",
      " 0.325      1.222      0.179      0.262      0.283      0.93\n",
      " 0.801      0.207      0.287      0.336      0.247      0.199\n",
      " 0.543      0.192      0.588      0.539      0.22       0.654\n",
      " 0.223      0.759      0.26       0.404      0.186      0.278\n",
      " 0.496      0.452      0.403      0.741      0.361      1.114\n",
      " 0.457      0.647      0.088      0.597      0.532      0.703\n",
      " 0.159      0.268      0.286      0.318      0.272      0.572\n",
      " 0.096      1.4        0.218      0.085      0.399      0.432\n",
      " 1.189      0.687      0.137      0.637      0.833      0.229\n",
      " 0.817      0.204      0.368      0.743      0.722      0.256\n",
      " 0.709      0.471      0.495      0.18       0.542      0.773\n",
      " 0.678      0.719      0.382      0.319      0.19       0.956\n",
      " 0.084      0.725      0.299      0.244      0.745      0.615\n",
      " 1.321      0.64       0.142      0.374      0.383      0.578\n",
      " 0.136      0.395      0.187      0.905      0.15       0.874\n",
      " 0.236      0.787      0.407      0.605      0.151      0.289\n",
      " 0.355      0.29       0.375      0.164      0.431      0.742\n",
      " 0.514      0.464      1.224      1.072      0.805      0.209\n",
      " 0.666      0.101      0.198      0.652      0.089      0.645\n",
      " 0.238      0.394      0.293      0.479      0.686      0.831\n",
      " 0.582      0.446      0.402      1.318      0.329      1.213\n",
      " 0.427      0.282      0.143      0.38       0.284      0.249\n",
      " 0.926      0.557      0.092      0.655      1.353      0.612\n",
      " 0.2        0.226      0.997      0.933      1.101      0.078\n",
      " 0.24       1.136      0.128      0.422      0.251      0.677\n",
      " 0.296      0.454      0.744      0.881      0.28       0.259\n",
      " 0.619      0.808      0.34       0.434      0.757      0.613\n",
      " 0.692      0.52       0.412      0.84       0.839      0.156\n",
      " 0.215      0.326      1.391      0.875      0.313      0.433\n",
      " 0.626      1.127      0.315      0.345      0.129      0.527\n",
      " 0.197      0.731      0.148      0.123      0.127      0.122\n",
      " 1.476      0.166      0.932      0.343      0.893      0.331\n",
      " 0.472      0.673      0.389      0.485      0.349      0.279\n",
      " 0.346      0.252      0.243      0.58       0.559      0.302\n",
      " 0.569      0.378      0.385      0.499      0.306      0.234\n",
      " 1.731      0.545      0.225      0.816      0.528      0.509\n",
      " 1.021      0.821      0.947      1.268      0.221      0.66\n",
      " 0.239      0.949      0.444      0.463      0.803      1.6\n",
      " 0.944      0.196      0.241      0.161      0.135      0.376\n",
      " 1.191      0.702      0.674      1.076      0.534      1.095\n",
      " 0.554      0.624      0.219      0.507      0.561      0.421\n",
      " 0.516      0.264      0.328      0.233      0.108      1.138\n",
      " 0.147      0.727      0.435      0.497      0.23       0.955\n",
      " 0.658      0.33       0.51       0.285      0.415      0.381\n",
      " 0.832      0.498      0.212      0.364      1.001      0.46\n",
      " 0.733      0.416      0.705      1.022      0.269      0.6\n",
      " 0.571      0.607      0.17       0.21       0.126      0.711\n",
      " 0.466      0.162      0.419      0.63       0.365      0.536\n",
      " 1.159      0.629      0.292      0.145      1.144      0.174\n",
      " 0.547      0.163      0.738      0.314      0.968      0.409\n",
      " 0.297      0.525      0.154      0.771      0.107      0.493\n",
      " 0.717      0.917      0.501      1.251      0.735      0.804\n",
      " 0.661      0.549      0.825      0.423      1.034      0.16\n",
      " 0.341      0.68       0.591      0.3        0.121      0.502\n",
      " 0.401      0.601      0.748      0.338      0.43       0.892\n",
      " 0.813      0.693      0.575      0.371      0.206      0.417\n",
      " 1.154      0.925      0.175      1.699      0.682      0.194\n",
      " 0.4        0.1        1.258      0.482      0.138      0.593\n",
      " 0.878      0.157      1.282      0.141      0.246      1.698\n",
      " 1.461      0.347      0.362      0.393      0.144      0.732\n",
      " 0.115      0.465      0.649      0.871      0.149      0.695\n",
      " 0.303      0.61       0.73       0.447      0.455      0.133\n",
      " 0.155      1.162      1.292      0.182      1.394      0.217\n",
      " 0.631      0.88       0.614      0.332      0.366      0.181\n",
      " 0.828      0.335      0.856      0.886      0.439      0.253\n",
      " 0.598      0.904      0.483      0.565      0.118      0.177\n",
      " 0.176      0.295      0.441      0.352      0.826      0.97\n",
      " 0.595      0.317      0.265      0.646      0.426      0.56\n",
      " 0.515      0.453      0.785      0.734      1.174      0.488\n",
      " 0.358      1.096      0.408      1.182      0.222      1.057\n",
      " 0.766      0.171      0.32789967 0.72413131 0.44360082 0.16353584\n",
      " 0.33638875 0.5477064  0.57719775 0.55464209 0.61213772 0.48100838\n",
      " 0.39875003 0.13493133 0.68960687 1.57778812 0.66397298 0.25847756\n",
      " 0.57503022 0.2578351  0.3285333  0.33869421 0.19892567 0.71891446\n",
      " 0.33300812 0.33258194 0.99935494 0.15559653 0.70336581 0.4428663\n",
      " 0.26390833 0.24083547 0.34454831 0.54043094 0.97825102 0.38148882\n",
      " 0.8666546  0.54205446 0.73509967 0.26739204 0.25918114 0.67402048\n",
      " 0.26647467 0.67186252 0.26127943 0.87150959 0.46690375 0.14881737\n",
      " 0.24042855 0.92513473 0.96946936 0.2590884  0.37893012 0.37978729\n",
      " 0.23006513 0.68656265 0.97731341 0.4097434  1.19945978 0.71357076\n",
      " 0.33786502 0.34556558 0.98515788 0.32755569 0.33333443 1.36696763\n",
      " 0.72528663 0.33151529 0.7805676  0.12709307 0.62003042 0.34723373\n",
      " 0.8305738  0.24911647 0.24368062 0.25838337 0.77312115 0.53628431\n",
      " 0.48545581 0.84705533 0.16237706 1.3213328  0.27767237 0.95393154\n",
      " 0.52850845 0.24193417 0.13561398 0.92114564 1.28028948 0.18975333\n",
      " 0.47324861 0.57548933 0.80470498 0.26327991 0.71578403 0.53068788\n",
      " 0.68860287 0.37557711 0.77216444 0.27808572 0.5411661  0.17651179\n",
      " 1.1888571  0.31472167 1.18462486 0.15508252 0.40743043 0.87186007\n",
      " 0.84311945 1.2499799  0.65421839 0.21569226 0.16499027 0.73089555\n",
      " 0.20915775 0.53490631 0.64905102 0.53330213 0.13289421 0.32144704\n",
      " 1.57590838 0.26984173 0.83071197 0.35641402 0.58906841 0.34416842\n",
      " 0.42136628 0.55535055 0.20441099 0.33156101 0.37610737 0.33697655\n",
      " 0.2581265  0.44218862 0.34023941 1.71255119 0.62053313 0.24320291\n",
      " 0.67239102 0.52728904 0.33419648 0.25884309 0.22200867 1.26737272\n",
      " 0.72510616 0.45408037 0.17044273 0.52295216 0.39358016 0.6181864\n",
      " 0.24169944 0.30722963 0.20336619 0.55009113 0.68311786 0.73138313\n",
      " 0.81460948 0.4350811  0.27242592 0.41429036 0.59830542 0.23856723\n",
      " 1.55165608 0.59435274 0.52856619 0.26475813 0.26957059 0.30591359\n",
      " 0.25834346 0.34998031 0.13229466 0.50637082 0.88454391 0.64375582\n",
      " 0.39236586 0.67107857 0.12770451 0.34702552 0.33553134 0.16791369\n",
      " 0.58649148 0.67523387 0.43897913 0.12733298 0.23064963 0.3453001\n",
      " 1.15358794 0.52406248 0.47560156 0.15327355 0.25748646 0.53570067\n",
      " 0.34209208 0.28258196 0.64285712 1.16414605 0.57922927 0.75519272\n",
      " 0.55868806 0.6562349  0.18885517 0.25760528 1.3655526  0.69114341\n",
      " 0.35728263 0.36182367 0.88088017 0.29699186 0.2890103  0.23303816\n",
      " 0.24505899 0.31289515 0.58709586 0.36243419 0.16809133 0.23950614\n",
      " 0.85674003 0.75087104 0.71937788 0.75212506 1.23534073 1.17705703\n",
      " 0.60083695 0.57328421 0.30532906 0.26031686 0.23611979 0.95253161\n",
      " 0.33480664 0.86907027]\n",
      "Age [1.77981247]\n"
     ]
    }
   ],
   "source": [
    "\n",
    "for k in X_resampled:\n",
    "    print(k, X_resampled[k].unique())\n"
   ]
  },
  {
   "cell_type": "markdown",
   "metadata": {},
   "source": [
    "## Feature Selection"
   ]
  },
  {
   "cell_type": "code",
   "execution_count": 24,
   "metadata": {},
   "outputs": [
    {
     "name": "stdout",
     "output_type": "stream",
     "text": [
      "0.62\n"
     ]
    }
   ],
   "source": [
    "# Model Creation with all the features\n",
    "from sklearn.model_selection import train_test_split\n",
    "from sklearn.feature_selection import RFE\n",
    "from sklearn.ensemble import RandomForestClassifier\n",
    "from sklearn.metrics import f1_score\n",
    "\n",
    "X_train, X_test, y_train, y_test = train_test_split(X_resampled, y_resampled, test_size=0.2, random_state=42)\n",
    "rfc = RandomForestClassifier(class_weight='balanced', n_estimators=100)\n",
    "\n",
    "# Fitting the model\n",
    "rfc.fit(X_train, y_train)\n",
    "\n",
    "# Making predictions\n",
    "preds = rfc.predict(X_test)\n",
    "\n",
    "# Evaluate the model using the F1-score\n",
    "f1_score_all = round(f1_score(y_test, preds, average='weighted'), 3)\n",
    "\n",
    "print(f1_score_all)"
   ]
  },
  {
   "cell_type": "markdown",
   "metadata": {},
   "source": [
    "### Recursive Feature Algorithm"
   ]
  },
  {
   "cell_type": "code",
   "execution_count": 25,
   "metadata": {},
   "outputs": [],
   "source": [
    "\n",
    "rfe_f1_score_list = []\n",
    "# Perfoem the Recursive Feature Technique\n",
    "for feature in range (1, 9):\n",
    "    RFESelector = RFE(estimator=rfc, n_features_to_select=feature, step=1)\n",
    "    RFESelector.fit(X_train, y_train)\n",
    "\n",
    "    #Filter the columns \n",
    "    filt_X_train = RFESelector.transform(X_train)\n",
    "    filt_X_test = RFESelector.transform(X_test)\n",
    "\n",
    "    #Fit the model\n",
    "    rfc.fit(filt_X_train, y_train)\n",
    "    #Prediction\n",
    "    predictions = rfc.predict(filt_X_test)\n",
    "\n",
    "    f1_score_rfe = round(f1_score(y_test, predictions, average='weighted'), 3)\n",
    "    \n",
    "    rfe_f1_score_list.append(f1_score_rfe)\n"
   ]
  },
  {
   "cell_type": "code",
   "execution_count": 26,
   "metadata": {},
   "outputs": [
    {
     "data": {
      "image/png": "[encoded data removed]",
      "text/plain": [
       "<Figure size 640x480 with 1 Axes>"
      ]
     },
     "metadata": {},
     "output_type": "display_data"
    }
   ],
   "source": [
    "fig, ax = plt.subplots()\n",
    "\n",
    "x = np.arange(1, 9)\n",
    "y = rfe_f1_score_list\n",
    "\n",
    "ax.bar(x, y, width=0.2)\n",
    "ax.set_xlabel('Number of features selected using RFE')\n",
    "ax.set_ylabel('F1-Score (weighted)')\n",
    "ax.set_ylim(0, 1.2)\n",
    "ax.set_xticks(np.arange(1, 9))\n",
    "ax.set_xticklabels(np.arange(1, 9), fontsize=12)\n",
    "\n",
    "for i, v in enumerate(y):\n",
    "    plt.text(x=i+1, y=v+0.05, s=str(v), ha='center')\n",
    "    \n",
    "plt.tight_layout()"
   ]
  },
  {
   "cell_type": "code",
   "execution_count": 27,
   "metadata": {},
   "outputs": [
    {
     "data": {
      "text/plain": [
       "Index(['Pregnancies', 'Glucose', 'BloodPressure', 'SkinThickness', 'Insulin',\n",
       "       'BMI', 'DiabetesPedigreeFunction', 'Age'],\n",
       "      dtype='object')"
      ]
     },
     "execution_count": 27,
     "metadata": {},
     "output_type": "execute_result"
    }
   ],
   "source": [
    "RFE_selector = RFE(estimator=rfc, n_features_to_select=8)\n",
    "RFE_selector.fit(X_train, y_train)\n",
    "\n",
    "selected_features_mask = RFE_selector.get_support()\n",
    "\n",
    "selected_features = X_train.columns[selected_features_mask]\n",
    "selected_features"
   ]
  },
  {
   "cell_type": "markdown",
   "metadata": {},
   "source": [
    "## Model Creation"
   ]
  },
  {
   "cell_type": "code",
   "execution_count": 28,
   "metadata": {},
   "outputs": [
    {
     "data": {
      "text/plain": [
       "0.63"
      ]
     },
     "execution_count": 28,
     "metadata": {},
     "output_type": "execute_result"
    }
   ],
   "source": [
    "X_train_selected = X_train[selected_features]\n",
    "X_test_selected = X_test[selected_features]\n",
    "\n",
    "rfc.fit(X_train_selected, y_train)\n",
    "\n",
    "# Save the trained model to a file\n",
    "joblib.dump(rfc, 'trained_model.joblib')\n",
    "\n",
    "predictions = rfc.predict(X_test_selected)\n",
    "\n",
    "f1_score_predictions = round(f1_score(y_test, predictions, average='weighted'), 3)\n",
    "f1_score_predictions"
   ]
  },
  {
   "cell_type": "code",
   "execution_count": null,
   "metadata": {},
   "outputs": [],
   "source": []
  }
 ],
 "metadata": {
  "kernelspec": {
   "display_name": "Python 3",
   "language": "python",
   "name": "python3"
  },
  "language_info": {
   "codemirror_mode": {
    "name": "ipython",
    "version": 3
   },
   "file_extension": ".py",
   "mimetype": "text/x-python",
   "name": "python",
   "nbconvert_exporter": "python",
   "pygments_lexer": "ipython3",
   "version": "3.11.4"
  }
 },
 "nbformat": 4,
 "nbformat_minor": 2
}
