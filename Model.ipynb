{
 "cells": [
  {
   "cell_type": "markdown",
   "metadata": {},
   "source": [
    "# Diabetes Prediction Model"
   ]
  },
  {
   "cell_type": "code",
   "execution_count": 1,
   "metadata": {},
   "outputs": [],
   "source": [
    "import pandas as pd\n",
    "import sqlalchemy\n",
    "import mysql.connector\n",
    "import imblearn\n",
    "import matplotlib.pyplot as plt\n",
    "import seaborn as sns\n",
    "import numpy as np\n",
    "import joblib"
   ]
  },
  {
   "cell_type": "markdown",
   "metadata": {},
   "source": [
    "## Creating a Database Connection"
   ]
  },
  {
   "cell_type": "code",
   "execution_count": 2,
   "metadata": {},
   "outputs": [
    {
     "name": "stdout",
     "output_type": "stream",
     "text": [
      "Hongera! Connection successful.\n"
     ]
    }
   ],
   "source": [
    "# Create a MySQL Connection\n",
    "mysql_connection = mysql.connector.connect(user = 'root', host = 'localhost', password = 'Mwende#2001!', database = 'rest_api')\n",
    "if mysql_connection.is_connected():\n",
    "    print(\"Hongera! Connection successful.\")\n",
    "\n",
    "else:\n",
    "    print(\"Oops! Connection unsuccessful, try again.\")"
   ]
  },
  {
   "cell_type": "code",
   "execution_count": 3,
   "metadata": {},
   "outputs": [
    {
     "name": "stdout",
     "output_type": "stream",
     "text": [
      "Mission successfully completed!\n"
     ]
    },
    {
     "name": "stderr",
     "output_type": "stream",
     "text": [
      "C:\\Users\\PC\\AppData\\Local\\Temp\\ipykernel_1836\\3811205189.py:3: UserWarning: pandas only supports SQLAlchemy connectable (engine/connection) or database string URI or sqlite3 DBAPI2 connection. Other DBAPI2 objects are not tested. Please consider using SQLAlchemy.\n",
      "  diabetes_data2 = pd.read_sql(query_2, mysql_connection)\n"
     ]
    }
   ],
   "source": [
    "# Loading the second dataset \n",
    "query_2 = \"SELECT * FROM DIABETES;\"\n",
    "diabetes_data2 = pd.read_sql(query_2, mysql_connection)\n",
    "if diabetes_data2.empty:\n",
    "    print('Mission incomplete.')\n",
    "\n",
    "else:\n",
    "    print('Mission successfully completed!')"
   ]
  },
  {
   "cell_type": "code",
   "execution_count": 4,
   "metadata": {},
   "outputs": [
    {
     "name": "stdout",
     "output_type": "stream",
     "text": [
      "Connection closed.\n"
     ]
    }
   ],
   "source": [
    "# Closing the connection\n",
    "mysql_connection.close()\n",
    "print(\"Connection closed.\")"
   ]
  },
  {
   "cell_type": "markdown",
   "metadata": {},
   "source": [
    "# Processes to undertake in this notebook:\n",
    "\n",
    "1.*Exploratory Data Analysis*\n",
    "\n",
    "2.*Feature Engineering*\n",
    "\n",
    "3.*Feature Selection*\n",
    "\n",
    "4.*Model Building*\n",
    "\n",
    "5.*Model Deployment*\n"
   ]
  },
  {
   "cell_type": "markdown",
   "metadata": {},
   "source": [
    "## Exploratory Data Analysis \n",
    "\n",
    "- The main aim is to understand the dataset better.\n",
    "\n",
    "**To-Analyze**\n",
    "1. Missing values.\n",
    "\n",
    "2. Check for numerical variables.\n",
    "\n",
    "3. Check for Categorical variables.\n",
    "\n",
    "4. Distribution of the variables.\n",
    "\n",
    "5. Check for outliers.\n",
    "\n",
    "6. Relationship between the independent variables and dependent variable (Outcome)"
   ]
  },
  {
   "cell_type": "code",
   "execution_count": 5,
   "metadata": {},
   "outputs": [
    {
     "data": {
      "text/html": [
       "<div>\n",
       "<style scoped>\n",
       "    .dataframe tbody tr th:only-of-type {\n",
       "        vertical-align: middle;\n",
       "    }\n",
       "\n",
       "    .dataframe tbody tr th {\n",
       "        vertical-align: top;\n",
       "    }\n",
       "\n",
       "    .dataframe thead th {\n",
       "        text-align: right;\n",
       "    }\n",
       "</style>\n",
       "<table border=\"1\" class=\"dataframe\">\n",
       "  <thead>\n",
       "    <tr style=\"text-align: right;\">\n",
       "      <th></th>\n",
       "      <th>Pregnancies</th>\n",
       "      <th>Glucose</th>\n",
       "      <th>BloodPressure</th>\n",
       "      <th>SkinThickness</th>\n",
       "      <th>Insulin</th>\n",
       "      <th>BMI</th>\n",
       "      <th>DiabetesPedigreeFunction</th>\n",
       "      <th>Age</th>\n",
       "      <th>Outcome</th>\n",
       "    </tr>\n",
       "  </thead>\n",
       "  <tbody>\n",
       "    <tr>\n",
       "      <th>680</th>\n",
       "      <td>2</td>\n",
       "      <td>56</td>\n",
       "      <td>56</td>\n",
       "      <td>28</td>\n",
       "      <td>45</td>\n",
       "      <td>24.2</td>\n",
       "      <td>0.332</td>\n",
       "      <td>22</td>\n",
       "      <td>0</td>\n",
       "    </tr>\n",
       "    <tr>\n",
       "      <th>485</th>\n",
       "      <td>0</td>\n",
       "      <td>135</td>\n",
       "      <td>68</td>\n",
       "      <td>42</td>\n",
       "      <td>250</td>\n",
       "      <td>42.3</td>\n",
       "      <td>0.365</td>\n",
       "      <td>24</td>\n",
       "      <td>1</td>\n",
       "    </tr>\n",
       "    <tr>\n",
       "      <th>718</th>\n",
       "      <td>1</td>\n",
       "      <td>108</td>\n",
       "      <td>60</td>\n",
       "      <td>46</td>\n",
       "      <td>178</td>\n",
       "      <td>35.5</td>\n",
       "      <td>0.415</td>\n",
       "      <td>24</td>\n",
       "      <td>0</td>\n",
       "    </tr>\n",
       "    <tr>\n",
       "      <th>449</th>\n",
       "      <td>0</td>\n",
       "      <td>120</td>\n",
       "      <td>74</td>\n",
       "      <td>18</td>\n",
       "      <td>63</td>\n",
       "      <td>30.5</td>\n",
       "      <td>0.285</td>\n",
       "      <td>26</td>\n",
       "      <td>0</td>\n",
       "    </tr>\n",
       "    <tr>\n",
       "      <th>202</th>\n",
       "      <td>0</td>\n",
       "      <td>108</td>\n",
       "      <td>68</td>\n",
       "      <td>20</td>\n",
       "      <td>0</td>\n",
       "      <td>27.3</td>\n",
       "      <td>0.787</td>\n",
       "      <td>32</td>\n",
       "      <td>0</td>\n",
       "    </tr>\n",
       "    <tr>\n",
       "      <th>523</th>\n",
       "      <td>9</td>\n",
       "      <td>130</td>\n",
       "      <td>70</td>\n",
       "      <td>0</td>\n",
       "      <td>0</td>\n",
       "      <td>34.2</td>\n",
       "      <td>0.652</td>\n",
       "      <td>45</td>\n",
       "      <td>1</td>\n",
       "    </tr>\n",
       "    <tr>\n",
       "      <th>240</th>\n",
       "      <td>1</td>\n",
       "      <td>91</td>\n",
       "      <td>64</td>\n",
       "      <td>24</td>\n",
       "      <td>0</td>\n",
       "      <td>29.2</td>\n",
       "      <td>0.192</td>\n",
       "      <td>21</td>\n",
       "      <td>0</td>\n",
       "    </tr>\n",
       "    <tr>\n",
       "      <th>112</th>\n",
       "      <td>1</td>\n",
       "      <td>89</td>\n",
       "      <td>76</td>\n",
       "      <td>34</td>\n",
       "      <td>37</td>\n",
       "      <td>31.2</td>\n",
       "      <td>0.192</td>\n",
       "      <td>23</td>\n",
       "      <td>0</td>\n",
       "    </tr>\n",
       "    <tr>\n",
       "      <th>642</th>\n",
       "      <td>6</td>\n",
       "      <td>147</td>\n",
       "      <td>80</td>\n",
       "      <td>0</td>\n",
       "      <td>0</td>\n",
       "      <td>29.5</td>\n",
       "      <td>0.178</td>\n",
       "      <td>50</td>\n",
       "      <td>1</td>\n",
       "    </tr>\n",
       "    <tr>\n",
       "      <th>35</th>\n",
       "      <td>4</td>\n",
       "      <td>103</td>\n",
       "      <td>60</td>\n",
       "      <td>33</td>\n",
       "      <td>192</td>\n",
       "      <td>24.0</td>\n",
       "      <td>0.966</td>\n",
       "      <td>33</td>\n",
       "      <td>0</td>\n",
       "    </tr>\n",
       "  </tbody>\n",
       "</table>\n",
       "</div>"
      ],
      "text/plain": [
       "     Pregnancies  Glucose  BloodPressure  SkinThickness  Insulin   BMI  \\\n",
       "680            2       56             56             28       45  24.2   \n",
       "485            0      135             68             42      250  42.3   \n",
       "718            1      108             60             46      178  35.5   \n",
       "449            0      120             74             18       63  30.5   \n",
       "202            0      108             68             20        0  27.3   \n",
       "523            9      130             70              0        0  34.2   \n",
       "240            1       91             64             24        0  29.2   \n",
       "112            1       89             76             34       37  31.2   \n",
       "642            6      147             80              0        0  29.5   \n",
       "35             4      103             60             33      192  24.0   \n",
       "\n",
       "     DiabetesPedigreeFunction  Age  Outcome  \n",
       "680                     0.332   22        0  \n",
       "485                     0.365   24        1  \n",
       "718                     0.415   24        0  \n",
       "449                     0.285   26        0  \n",
       "202                     0.787   32        0  \n",
       "523                     0.652   45        1  \n",
       "240                     0.192   21        0  \n",
       "112                     0.192   23        0  \n",
       "642                     0.178   50        1  \n",
       "35                      0.966   33        0  "
      ]
     },
     "execution_count": 5,
     "metadata": {},
     "output_type": "execute_result"
    }
   ],
   "source": [
    "# Checking a random sample of the dataset\n",
    "diabetes_data2.sample(10)"
   ]
  },
  {
   "cell_type": "code",
   "execution_count": 6,
   "metadata": {},
   "outputs": [
    {
     "name": "stdout",
     "output_type": "stream",
     "text": [
      "Pregnancies 0.0 %\n",
      "Glucose 0.0 %\n",
      "BloodPressure 0.0 %\n",
      "SkinThickness 0.0 %\n",
      "Insulin 0.0 %\n",
      "BMI 0.0 %\n",
      "DiabetesPedigreeFunction 0.0 %\n",
      "Age 0.0 %\n",
      "Outcome 0.0 %\n"
     ]
    }
   ],
   "source": [
    "# Checking for missing values\n",
    "diabetes_data2.isnull().sum()\n",
    "\n",
    "for feature in diabetes_data2:\n",
    "    print(feature, np.round(diabetes_data2[feature].isnull().mean(), 1),'%')"
   ]
  },
  {
   "cell_type": "code",
   "execution_count": 8,
   "metadata": {},
   "outputs": [
    {
     "name": "stdout",
     "output_type": "stream",
     "text": [
      "The total rows in the dataset are 768.\n"
     ]
    }
   ],
   "source": [
    "print(f\"The total rows in the dataset are {len(diabetes_data2['Outcome'])}.\")"
   ]
  },
  {
   "cell_type": "code",
   "execution_count": 9,
   "metadata": {},
   "outputs": [
    {
     "data": {
      "text/plain": [
       "Index(['Pregnancies', 'Glucose', 'BloodPressure', 'SkinThickness', 'Insulin',\n",
       "       'BMI', 'DiabetesPedigreeFunction', 'Age', 'Outcome'],\n",
       "      dtype='object')"
      ]
     },
     "execution_count": 9,
     "metadata": {},
     "output_type": "execute_result"
    }
   ],
   "source": [
    "diabetes_data2.columns"
   ]
  },
  {
   "cell_type": "markdown",
   "metadata": {},
   "source": [
    "### Numerical Variables"
   ]
  },
  {
   "cell_type": "code",
   "execution_count": 10,
   "metadata": {},
   "outputs": [
    {
     "name": "stdout",
     "output_type": "stream",
     "text": [
      "There are 9 numerical columns.\n"
     ]
    }
   ],
   "source": [
    "numerical_columns = []\n",
    "for feature in diabetes_data2:\n",
    "    if diabetes_data2[feature].dtype != 'object':\n",
    "        numerical_columns.append(feature)\n",
    "\n",
    "\n",
    "print(f\"There are {len(numerical_columns)} numerical columns.\")"
   ]
  },
  {
   "cell_type": "code",
   "execution_count": 11,
   "metadata": {},
   "outputs": [
    {
     "name": "stdout",
     "output_type": "stream",
     "text": [
      "<class 'pandas.core.frame.DataFrame'>\n",
      "RangeIndex: 768 entries, 0 to 767\n",
      "Data columns (total 9 columns):\n",
      " #   Column                    Non-Null Count  Dtype  \n",
      "---  ------                    --------------  -----  \n",
      " 0   Pregnancies               768 non-null    int64  \n",
      " 1   Glucose                   768 non-null    int64  \n",
      " 2   BloodPressure             768 non-null    int64  \n",
      " 3   SkinThickness             768 non-null    int64  \n",
      " 4   Insulin                   768 non-null    int64  \n",
      " 5   BMI                       768 non-null    float64\n",
      " 6   DiabetesPedigreeFunction  768 non-null    float64\n",
      " 7   Age                       768 non-null    int64  \n",
      " 8   Outcome                   768 non-null    int64  \n",
      "dtypes: float64(2), int64(7)\n",
      "memory usage: 54.1 KB\n"
     ]
    }
   ],
   "source": [
    "diabetes_data2.info()"
   ]
  },
  {
   "cell_type": "code",
   "execution_count": 12,
   "metadata": {},
   "outputs": [
    {
     "name": "stdout",
     "output_type": "stream",
     "text": [
      "['Pregnancies', 'Glucose', 'BloodPressure', 'SkinThickness', 'Insulin', 'BMI', 'DiabetesPedigreeFunction', 'Age', 'Outcome']\n"
     ]
    }
   ],
   "source": [
    "print(numerical_columns)"
   ]
  },
  {
   "cell_type": "markdown",
   "metadata": {},
   "source": [
    "### Continuous Variables"
   ]
  },
  {
   "cell_type": "code",
   "execution_count": 13,
   "metadata": {},
   "outputs": [
    {
     "name": "stdout",
     "output_type": "stream",
     "text": [
      "There are 0 categorical columns.\n"
     ]
    }
   ],
   "source": [
    "categorical_columns = []\n",
    "for feature in diabetes_data2:\n",
    "    if diabetes_data2[feature].dtype == 'object':\n",
    "        categorical_columns.append(feature)\n",
    "\n",
    "\n",
    "print(f\"There are {len(categorical_columns)} categorical columns.\")"
   ]
  },
  {
   "cell_type": "code",
   "execution_count": 14,
   "metadata": {},
   "outputs": [
    {
     "name": "stdout",
     "output_type": "stream",
     "text": [
      "[]\n"
     ]
    }
   ],
   "source": [
    "print(categorical_columns)"
   ]
  },
  {
   "cell_type": "markdown",
   "metadata": {},
   "source": [
    "### Data Preprocessing"
   ]
  },
  {
   "cell_type": "code",
   "execution_count": null,
   "metadata": {},
   "outputs": [
    {
     "name": "stderr",
     "output_type": "stream",
     "text": [
      "c:\\Users\\PC\\AppData\\Local\\Programs\\Python\\Python311\\Lib\\site-packages\\sklearn\\preprocessing\\_encoders.py:868: FutureWarning: `sparse` was renamed to `sparse_output` in version 1.2 and will be removed in 1.4. `sparse_output` is ignored unless you leave `sparse` to its default value.\n",
      "  warnings.warn(\n"
     ]
    },
    {
     "data": {
      "text/html": [
       "<div>\n",
       "<style scoped>\n",
       "    .dataframe tbody tr th:only-of-type {\n",
       "        vertical-align: middle;\n",
       "    }\n",
       "\n",
       "    .dataframe tbody tr th {\n",
       "        vertical-align: top;\n",
       "    }\n",
       "\n",
       "    .dataframe thead th {\n",
       "        text-align: right;\n",
       "    }\n",
       "</style>\n",
       "<table border=\"1\" class=\"dataframe\">\n",
       "  <thead>\n",
       "    <tr style=\"text-align: right;\">\n",
       "      <th></th>\n",
       "      <th>age</th>\n",
       "      <th>hypertension</th>\n",
       "      <th>heart_disease</th>\n",
       "      <th>bmi</th>\n",
       "      <th>HbA1c_level</th>\n",
       "      <th>blood_glucose_level</th>\n",
       "      <th>diabetes</th>\n",
       "      <th>gender_Male</th>\n",
       "      <th>gender_Other</th>\n",
       "      <th>smoking_history_current</th>\n",
       "      <th>smoking_history_ever</th>\n",
       "      <th>smoking_history_former</th>\n",
       "      <th>smoking_history_never</th>\n",
       "      <th>smoking_history_not current</th>\n",
       "    </tr>\n",
       "  </thead>\n",
       "  <tbody>\n",
       "    <tr>\n",
       "      <th>0</th>\n",
       "      <td>80.0</td>\n",
       "      <td>0</td>\n",
       "      <td>1</td>\n",
       "      <td>25.19</td>\n",
       "      <td>6.6</td>\n",
       "      <td>140</td>\n",
       "      <td>0</td>\n",
       "      <td>0.0</td>\n",
       "      <td>0.0</td>\n",
       "      <td>0.0</td>\n",
       "      <td>0.0</td>\n",
       "      <td>0.0</td>\n",
       "      <td>1.0</td>\n",
       "      <td>0.0</td>\n",
       "    </tr>\n",
       "    <tr>\n",
       "      <th>1</th>\n",
       "      <td>54.0</td>\n",
       "      <td>0</td>\n",
       "      <td>0</td>\n",
       "      <td>27.32</td>\n",
       "      <td>6.6</td>\n",
       "      <td>80</td>\n",
       "      <td>0</td>\n",
       "      <td>0.0</td>\n",
       "      <td>0.0</td>\n",
       "      <td>0.0</td>\n",
       "      <td>0.0</td>\n",
       "      <td>0.0</td>\n",
       "      <td>0.0</td>\n",
       "      <td>0.0</td>\n",
       "    </tr>\n",
       "    <tr>\n",
       "      <th>2</th>\n",
       "      <td>28.0</td>\n",
       "      <td>0</td>\n",
       "      <td>0</td>\n",
       "      <td>27.32</td>\n",
       "      <td>5.7</td>\n",
       "      <td>158</td>\n",
       "      <td>0</td>\n",
       "      <td>1.0</td>\n",
       "      <td>0.0</td>\n",
       "      <td>0.0</td>\n",
       "      <td>0.0</td>\n",
       "      <td>0.0</td>\n",
       "      <td>1.0</td>\n",
       "      <td>0.0</td>\n",
       "    </tr>\n",
       "    <tr>\n",
       "      <th>3</th>\n",
       "      <td>36.0</td>\n",
       "      <td>0</td>\n",
       "      <td>0</td>\n",
       "      <td>23.45</td>\n",
       "      <td>5.0</td>\n",
       "      <td>155</td>\n",
       "      <td>0</td>\n",
       "      <td>0.0</td>\n",
       "      <td>0.0</td>\n",
       "      <td>1.0</td>\n",
       "      <td>0.0</td>\n",
       "      <td>0.0</td>\n",
       "      <td>0.0</td>\n",
       "      <td>0.0</td>\n",
       "    </tr>\n",
       "    <tr>\n",
       "      <th>4</th>\n",
       "      <td>76.0</td>\n",
       "      <td>1</td>\n",
       "      <td>1</td>\n",
       "      <td>20.14</td>\n",
       "      <td>4.8</td>\n",
       "      <td>155</td>\n",
       "      <td>0</td>\n",
       "      <td>1.0</td>\n",
       "      <td>0.0</td>\n",
       "      <td>1.0</td>\n",
       "      <td>0.0</td>\n",
       "      <td>0.0</td>\n",
       "      <td>0.0</td>\n",
       "      <td>0.0</td>\n",
       "    </tr>\n",
       "    <tr>\n",
       "      <th>...</th>\n",
       "      <td>...</td>\n",
       "      <td>...</td>\n",
       "      <td>...</td>\n",
       "      <td>...</td>\n",
       "      <td>...</td>\n",
       "      <td>...</td>\n",
       "      <td>...</td>\n",
       "      <td>...</td>\n",
       "      <td>...</td>\n",
       "      <td>...</td>\n",
       "      <td>...</td>\n",
       "      <td>...</td>\n",
       "      <td>...</td>\n",
       "      <td>...</td>\n",
       "    </tr>\n",
       "    <tr>\n",
       "      <th>99995</th>\n",
       "      <td>80.0</td>\n",
       "      <td>0</td>\n",
       "      <td>0</td>\n",
       "      <td>27.32</td>\n",
       "      <td>6.2</td>\n",
       "      <td>90</td>\n",
       "      <td>0</td>\n",
       "      <td>0.0</td>\n",
       "      <td>0.0</td>\n",
       "      <td>0.0</td>\n",
       "      <td>0.0</td>\n",
       "      <td>0.0</td>\n",
       "      <td>0.0</td>\n",
       "      <td>0.0</td>\n",
       "    </tr>\n",
       "    <tr>\n",
       "      <th>99996</th>\n",
       "      <td>2.0</td>\n",
       "      <td>0</td>\n",
       "      <td>0</td>\n",
       "      <td>17.37</td>\n",
       "      <td>6.5</td>\n",
       "      <td>100</td>\n",
       "      <td>0</td>\n",
       "      <td>0.0</td>\n",
       "      <td>0.0</td>\n",
       "      <td>0.0</td>\n",
       "      <td>0.0</td>\n",
       "      <td>0.0</td>\n",
       "      <td>0.0</td>\n",
       "      <td>0.0</td>\n",
       "    </tr>\n",
       "    <tr>\n",
       "      <th>99997</th>\n",
       "      <td>66.0</td>\n",
       "      <td>0</td>\n",
       "      <td>0</td>\n",
       "      <td>27.83</td>\n",
       "      <td>5.7</td>\n",
       "      <td>155</td>\n",
       "      <td>0</td>\n",
       "      <td>1.0</td>\n",
       "      <td>0.0</td>\n",
       "      <td>0.0</td>\n",
       "      <td>0.0</td>\n",
       "      <td>1.0</td>\n",
       "      <td>0.0</td>\n",
       "      <td>0.0</td>\n",
       "    </tr>\n",
       "    <tr>\n",
       "      <th>99998</th>\n",
       "      <td>24.0</td>\n",
       "      <td>0</td>\n",
       "      <td>0</td>\n",
       "      <td>35.42</td>\n",
       "      <td>4.0</td>\n",
       "      <td>100</td>\n",
       "      <td>0</td>\n",
       "      <td>0.0</td>\n",
       "      <td>0.0</td>\n",
       "      <td>0.0</td>\n",
       "      <td>0.0</td>\n",
       "      <td>0.0</td>\n",
       "      <td>1.0</td>\n",
       "      <td>0.0</td>\n",
       "    </tr>\n",
       "    <tr>\n",
       "      <th>99999</th>\n",
       "      <td>57.0</td>\n",
       "      <td>0</td>\n",
       "      <td>0</td>\n",
       "      <td>22.43</td>\n",
       "      <td>6.6</td>\n",
       "      <td>90</td>\n",
       "      <td>0</td>\n",
       "      <td>0.0</td>\n",
       "      <td>0.0</td>\n",
       "      <td>1.0</td>\n",
       "      <td>0.0</td>\n",
       "      <td>0.0</td>\n",
       "      <td>0.0</td>\n",
       "      <td>0.0</td>\n",
       "    </tr>\n",
       "  </tbody>\n",
       "</table>\n",
       "<p>100000 rows × 14 columns</p>\n",
       "</div>"
      ],
      "text/plain": [
       "        age  hypertension  heart_disease    bmi  HbA1c_level  \\\n",
       "0      80.0             0              1  25.19          6.6   \n",
       "1      54.0             0              0  27.32          6.6   \n",
       "2      28.0             0              0  27.32          5.7   \n",
       "3      36.0             0              0  23.45          5.0   \n",
       "4      76.0             1              1  20.14          4.8   \n",
       "...     ...           ...            ...    ...          ...   \n",
       "99995  80.0             0              0  27.32          6.2   \n",
       "99996   2.0             0              0  17.37          6.5   \n",
       "99997  66.0             0              0  27.83          5.7   \n",
       "99998  24.0             0              0  35.42          4.0   \n",
       "99999  57.0             0              0  22.43          6.6   \n",
       "\n",
       "       blood_glucose_level  diabetes  gender_Male  gender_Other  \\\n",
       "0                      140         0          0.0           0.0   \n",
       "1                       80         0          0.0           0.0   \n",
       "2                      158         0          1.0           0.0   \n",
       "3                      155         0          0.0           0.0   \n",
       "4                      155         0          1.0           0.0   \n",
       "...                    ...       ...          ...           ...   \n",
       "99995                   90         0          0.0           0.0   \n",
       "99996                  100         0          0.0           0.0   \n",
       "99997                  155         0          1.0           0.0   \n",
       "99998                  100         0          0.0           0.0   \n",
       "99999                   90         0          0.0           0.0   \n",
       "\n",
       "       smoking_history_current  smoking_history_ever  smoking_history_former  \\\n",
       "0                          0.0                   0.0                     0.0   \n",
       "1                          0.0                   0.0                     0.0   \n",
       "2                          0.0                   0.0                     0.0   \n",
       "3                          1.0                   0.0                     0.0   \n",
       "4                          1.0                   0.0                     0.0   \n",
       "...                        ...                   ...                     ...   \n",
       "99995                      0.0                   0.0                     0.0   \n",
       "99996                      0.0                   0.0                     0.0   \n",
       "99997                      0.0                   0.0                     1.0   \n",
       "99998                      0.0                   0.0                     0.0   \n",
       "99999                      1.0                   0.0                     0.0   \n",
       "\n",
       "       smoking_history_never  smoking_history_not current  \n",
       "0                        1.0                          0.0  \n",
       "1                        0.0                          0.0  \n",
       "2                        1.0                          0.0  \n",
       "3                        0.0                          0.0  \n",
       "4                        0.0                          0.0  \n",
       "...                      ...                          ...  \n",
       "99995                    0.0                          0.0  \n",
       "99996                    0.0                          0.0  \n",
       "99997                    0.0                          0.0  \n",
       "99998                    1.0                          0.0  \n",
       "99999                    0.0                          0.0  \n",
       "\n",
       "[100000 rows x 14 columns]"
      ]
     },
     "execution_count": 50,
     "metadata": {},
     "output_type": "execute_result"
    }
   ],
   "source": [
    "from sklearn.preprocessing import OneHotEncoder\n",
    "\n",
    "# Instantiate the OneHotEncoder\n",
    "encoder = OneHotEncoder(drop='first', sparse=False)\n",
    "\n",
    "# Fit and transform the categorical columns\n",
    "encoded_categorical = encoder.fit_transform(diabetes_data2[['gender', 'smoking_history']])\n",
    "\n",
    "# Retrieve the feature names from the encoder\n",
    "feature_names = encoder.get_feature_names_out(['gender', 'smoking_history'])\n",
    "\n",
    "# Create a DataFrame from the encoded categorical data\n",
    "encoded_df = pd.DataFrame(encoded_categorical, columns=feature_names)\n",
    "\n",
    "# Concatenate the encoded categorical DataFrame with the original DataFrame\n",
    "diabetes_data_encoded = pd.concat([diabetes_data2.drop(columns=['gender', 'smoking_history']), encoded_df], axis=1)\n",
    "\n",
    "# Display the encoded DataFrame\n",
    "diabetes_data_encoded\n"
   ]
  },
  {
   "cell_type": "markdown",
   "metadata": {},
   "source": [
    "### Multivariate Analysis"
   ]
  },
  {
   "cell_type": "code",
   "execution_count": null,
   "metadata": {},
   "outputs": [],
   "source": [
    "# sns.pairplot(data=diabetes_data, kind='reg')"
   ]
  },
  {
   "cell_type": "code",
   "execution_count": 16,
   "metadata": {},
   "outputs": [
    {
     "data": {
      "text/html": [
       "<div>\n",
       "<style scoped>\n",
       "    .dataframe tbody tr th:only-of-type {\n",
       "        vertical-align: middle;\n",
       "    }\n",
       "\n",
       "    .dataframe tbody tr th {\n",
       "        vertical-align: top;\n",
       "    }\n",
       "\n",
       "    .dataframe thead th {\n",
       "        text-align: right;\n",
       "    }\n",
       "</style>\n",
       "<table border=\"1\" class=\"dataframe\">\n",
       "  <thead>\n",
       "    <tr style=\"text-align: right;\">\n",
       "      <th></th>\n",
       "      <th>Pregnancies</th>\n",
       "      <th>Glucose</th>\n",
       "      <th>BloodPressure</th>\n",
       "      <th>SkinThickness</th>\n",
       "      <th>Insulin</th>\n",
       "      <th>BMI</th>\n",
       "      <th>DiabetesPedigreeFunction</th>\n",
       "      <th>Age</th>\n",
       "      <th>Outcome</th>\n",
       "    </tr>\n",
       "  </thead>\n",
       "  <tbody>\n",
       "    <tr>\n",
       "      <th>Pregnancies</th>\n",
       "      <td>1.000000</td>\n",
       "      <td>0.129459</td>\n",
       "      <td>0.141282</td>\n",
       "      <td>-0.081672</td>\n",
       "      <td>-0.073535</td>\n",
       "      <td>0.017683</td>\n",
       "      <td>-0.033523</td>\n",
       "      <td>0.544341</td>\n",
       "      <td>0.221898</td>\n",
       "    </tr>\n",
       "    <tr>\n",
       "      <th>Glucose</th>\n",
       "      <td>0.129459</td>\n",
       "      <td>1.000000</td>\n",
       "      <td>0.152590</td>\n",
       "      <td>0.057328</td>\n",
       "      <td>0.331357</td>\n",
       "      <td>0.221071</td>\n",
       "      <td>0.137337</td>\n",
       "      <td>0.263514</td>\n",
       "      <td>0.466581</td>\n",
       "    </tr>\n",
       "    <tr>\n",
       "      <th>BloodPressure</th>\n",
       "      <td>0.141282</td>\n",
       "      <td>0.152590</td>\n",
       "      <td>1.000000</td>\n",
       "      <td>0.207371</td>\n",
       "      <td>0.088933</td>\n",
       "      <td>0.281805</td>\n",
       "      <td>0.041265</td>\n",
       "      <td>0.239528</td>\n",
       "      <td>0.065068</td>\n",
       "    </tr>\n",
       "    <tr>\n",
       "      <th>SkinThickness</th>\n",
       "      <td>-0.081672</td>\n",
       "      <td>0.057328</td>\n",
       "      <td>0.207371</td>\n",
       "      <td>1.000000</td>\n",
       "      <td>0.436783</td>\n",
       "      <td>0.392573</td>\n",
       "      <td>0.183928</td>\n",
       "      <td>-0.113970</td>\n",
       "      <td>0.074752</td>\n",
       "    </tr>\n",
       "    <tr>\n",
       "      <th>Insulin</th>\n",
       "      <td>-0.073535</td>\n",
       "      <td>0.331357</td>\n",
       "      <td>0.088933</td>\n",
       "      <td>0.436783</td>\n",
       "      <td>1.000000</td>\n",
       "      <td>0.197859</td>\n",
       "      <td>0.185071</td>\n",
       "      <td>-0.042163</td>\n",
       "      <td>0.130548</td>\n",
       "    </tr>\n",
       "    <tr>\n",
       "      <th>BMI</th>\n",
       "      <td>0.017683</td>\n",
       "      <td>0.221071</td>\n",
       "      <td>0.281805</td>\n",
       "      <td>0.392573</td>\n",
       "      <td>0.197859</td>\n",
       "      <td>1.000000</td>\n",
       "      <td>0.140647</td>\n",
       "      <td>0.036242</td>\n",
       "      <td>0.292695</td>\n",
       "    </tr>\n",
       "    <tr>\n",
       "      <th>DiabetesPedigreeFunction</th>\n",
       "      <td>-0.033523</td>\n",
       "      <td>0.137337</td>\n",
       "      <td>0.041265</td>\n",
       "      <td>0.183928</td>\n",
       "      <td>0.185071</td>\n",
       "      <td>0.140647</td>\n",
       "      <td>1.000000</td>\n",
       "      <td>0.033561</td>\n",
       "      <td>0.173844</td>\n",
       "    </tr>\n",
       "    <tr>\n",
       "      <th>Age</th>\n",
       "      <td>0.544341</td>\n",
       "      <td>0.263514</td>\n",
       "      <td>0.239528</td>\n",
       "      <td>-0.113970</td>\n",
       "      <td>-0.042163</td>\n",
       "      <td>0.036242</td>\n",
       "      <td>0.033561</td>\n",
       "      <td>1.000000</td>\n",
       "      <td>0.238356</td>\n",
       "    </tr>\n",
       "    <tr>\n",
       "      <th>Outcome</th>\n",
       "      <td>0.221898</td>\n",
       "      <td>0.466581</td>\n",
       "      <td>0.065068</td>\n",
       "      <td>0.074752</td>\n",
       "      <td>0.130548</td>\n",
       "      <td>0.292695</td>\n",
       "      <td>0.173844</td>\n",
       "      <td>0.238356</td>\n",
       "      <td>1.000000</td>\n",
       "    </tr>\n",
       "  </tbody>\n",
       "</table>\n",
       "</div>"
      ],
      "text/plain": [
       "                          Pregnancies   Glucose  BloodPressure  SkinThickness  \\\n",
       "Pregnancies                  1.000000  0.129459       0.141282      -0.081672   \n",
       "Glucose                      0.129459  1.000000       0.152590       0.057328   \n",
       "BloodPressure                0.141282  0.152590       1.000000       0.207371   \n",
       "SkinThickness               -0.081672  0.057328       0.207371       1.000000   \n",
       "Insulin                     -0.073535  0.331357       0.088933       0.436783   \n",
       "BMI                          0.017683  0.221071       0.281805       0.392573   \n",
       "DiabetesPedigreeFunction    -0.033523  0.137337       0.041265       0.183928   \n",
       "Age                          0.544341  0.263514       0.239528      -0.113970   \n",
       "Outcome                      0.221898  0.466581       0.065068       0.074752   \n",
       "\n",
       "                           Insulin       BMI  DiabetesPedigreeFunction  \\\n",
       "Pregnancies              -0.073535  0.017683                 -0.033523   \n",
       "Glucose                   0.331357  0.221071                  0.137337   \n",
       "BloodPressure             0.088933  0.281805                  0.041265   \n",
       "SkinThickness             0.436783  0.392573                  0.183928   \n",
       "Insulin                   1.000000  0.197859                  0.185071   \n",
       "BMI                       0.197859  1.000000                  0.140647   \n",
       "DiabetesPedigreeFunction  0.185071  0.140647                  1.000000   \n",
       "Age                      -0.042163  0.036242                  0.033561   \n",
       "Outcome                   0.130548  0.292695                  0.173844   \n",
       "\n",
       "                               Age   Outcome  \n",
       "Pregnancies               0.544341  0.221898  \n",
       "Glucose                   0.263514  0.466581  \n",
       "BloodPressure             0.239528  0.065068  \n",
       "SkinThickness            -0.113970  0.074752  \n",
       "Insulin                  -0.042163  0.130548  \n",
       "BMI                       0.036242  0.292695  \n",
       "DiabetesPedigreeFunction  0.033561  0.173844  \n",
       "Age                       1.000000  0.238356  \n",
       "Outcome                   0.238356  1.000000  "
      ]
     },
     "execution_count": 16,
     "metadata": {},
     "output_type": "execute_result"
    }
   ],
   "source": [
    "# Correlation\n",
    "diabetes_data2.corr()"
   ]
  },
  {
   "cell_type": "markdown",
   "metadata": {},
   "source": [
    "### Outliers\n",
    "- Methods to detect outliers are:\n",
    "\n",
    "a) Z-Score Method\n",
    "\n",
    "b) Inter-quartile Range Method (IQR)\n",
    "\n",
    "c) Percentile Method\n",
    "\n",
    "- To remove outliers, two methods can be used. \n",
    "\n",
    "i) Capping. This is converting the outliers to uper and lower limits.\n",
    "\n",
    "ii) Trimming. Deleting the outliers."
   ]
  },
  {
   "cell_type": "code",
   "execution_count": 17,
   "metadata": {},
   "outputs": [
    {
     "name": "stdout",
     "output_type": "stream",
     "text": [
      "Upper Limit for Pregnancies, 13.953786271429943\n",
      "Lower Limit for Pregnancies, -6.263682104763275\n",
      "Total number of outliers in Pregnancies: 4\n",
      "Upper Limit for Glucose, 216.81238583540866\n",
      "Lower Limit for Glucose, 24.976676664591338\n",
      "Total number of outliers in Glucose: 5\n",
      "Upper Limit for BloodPressure, 127.17289026193433\n",
      "Lower Limit for BloodPressure, 11.038047238065673\n",
      "Total number of outliers in BloodPressure: 35\n",
      "Upper Limit for SkinThickness, 68.39311103651625\n",
      "Lower Limit for SkinThickness, -27.320194369849577\n",
      "Total number of outliers in SkinThickness: 1\n",
      "Upper Limit for Insulin, 425.5314862206812\n",
      "Lower Limit for Insulin, -265.9325278873478\n",
      "Total number of outliers in Insulin: 18\n",
      "Upper Limit for BMI, 55.64505908612634\n",
      "Lower Limit for BMI, 8.340097163873661\n",
      "Total number of outliers in BMI: 14\n",
      "Upper Limit for DiabetesPedigreeFunction, 1.4658620871216579\n",
      "Lower Limit for DiabetesPedigreeFunction, -0.5221094829549915\n",
      "Total number of outliers in DiabetesPedigreeFunction: 11\n",
      "Upper Limit for Age, 68.52158003870272\n",
      "Lower Limit for Age, -2.0398092053693873\n",
      "Total number of outliers in Age: 5\n",
      "Upper Limit for Outcome, 1.7798124650617302\n",
      "Lower Limit for Outcome, -1.0818957983950637\n",
      "Total number of outliers in Outcome: 0\n"
     ]
    }
   ],
   "source": [
    "# Detecting outliers per column using Z-score \n",
    "\n",
    "for column in diabetes_data2:\n",
    "\n",
    "    upper_limit = diabetes_data2[column].mean() + 3 * diabetes_data2[column].std()\n",
    "    lower_limit =  diabetes_data2[column].mean() - 3 * diabetes_data2[column].std()\n",
    "\n",
    "    print(f\"Upper Limit for {column}, {upper_limit}\")\n",
    "    print(f\"Lower Limit for {column}, {lower_limit}\")\n",
    "\n",
    "    outliers = diabetes_data2.loc[(diabetes_data2[column] > upper_limit) | (diabetes_data2[column] < lower_limit)]\n",
    "\n",
    "    total_outliers_per_column = len(outliers)\n",
    "\n",
    "    print(f\"Total number of outliers in {column}: {total_outliers_per_column}\")\n"
   ]
  },
  {
   "cell_type": "code",
   "execution_count": 18,
   "metadata": {},
   "outputs": [
    {
     "name": "stdout",
     "output_type": "stream",
     "text": [
      "Total number of outliers in Pregnancies: 0\n",
      "Total number of outliers in Glucose: 0\n",
      "Total number of outliers in BloodPressure: 0\n",
      "Total number of outliers in SkinThickness: 0\n",
      "Total number of outliers in Insulin: 0\n",
      "Total number of outliers in BMI: 0\n",
      "Total number of outliers in DiabetesPedigreeFunction: 0\n",
      "Total number of outliers in Age: 0\n",
      "Total number of outliers in Outcome: 0\n"
     ]
    }
   ],
   "source": [
    "# Capping the outliers\n",
    "# Creating a copy of the dataset\n",
    "diabetes_data_copy = diabetes_data2.copy()\n",
    "\n",
    "# Performing the capping\n",
    "for column in diabetes_data_copy:\n",
    "\n",
    "    diabetes_data_copy.loc[diabetes_data_copy[column] > upper_limit, column] = upper_limit\n",
    "    diabetes_data_copy.loc[diabetes_data_copy[column] < lower_limit, column] = lower_limit\n",
    "\n",
    "    outliers = diabetes_data_copy.loc[(diabetes_data_copy[column] > upper_limit) | (diabetes_data_copy[column] < lower_limit)]\n",
    "\n",
    "    total_outliers_per_column = len(outliers)\n",
    "\n",
    "    print(f\"Total number of outliers in {column}: {total_outliers_per_column}\")\n"
   ]
  },
  {
   "cell_type": "markdown",
   "metadata": {},
   "source": [
    "## Feature Engineering\n",
    "\n",
    "- Consists of:\n",
    "\n",
    "i) Handling imbalance datasets\n",
    "\n",
    "ii) Encoding\n",
    "\n",
    "iii) Min-Max Scaling\n",
    "\n",
    "iv) Dimensionality\n",
    "\n",
    "v)Log Transformation\n",
    "\n",
    "vi) Normalization\n",
    "\n",
    "vii) Standardization\n",
    "\n",
    "viii) Feature Selection"
   ]
  },
  {
   "cell_type": "markdown",
   "metadata": {},
   "source": [
    "### Handling an Imbalanced Dataset\n",
    "The library to be used is imbalance-learn."
   ]
  },
  {
   "cell_type": "code",
   "execution_count": 19,
   "metadata": {},
   "outputs": [
    {
     "data": {
      "text/plain": [
       "([<matplotlib.patches.Wedge at 0x239a8626cd0>,\n",
       "  <matplotlib.patches.Wedge at 0x239a862bb90>],\n",
       " [Text(-0.5025943242672991, 0.9784676515931925, '0.0'),\n",
       "  Text(0.5025944158780503, -0.9784676045369114, '1.0')],\n",
       " [Text(-0.27414235869125403, 0.5337096281417413, '65.1%'),\n",
       "  Text(0.2741424086607547, -0.5337096024746789, '34.9%')])"
      ]
     },
     "execution_count": 19,
     "metadata": {},
     "output_type": "execute_result"
    },
    {
     "data": {
      "image/png": "[encoded data removed]",
      "text/plain": [
       "<Figure size 640x480 with 1 Axes>"
      ]
     },
     "metadata": {},
     "output_type": "display_data"
    }
   ],
   "source": [
    "outcome_value_counts = diabetes_data_copy['Outcome'].value_counts()\n",
    "\n",
    "plt.pie(outcome_value_counts, labels=outcome_value_counts.index, autopct='%1.1f%%')"
   ]
  },
  {
   "cell_type": "markdown",
   "metadata": {},
   "source": [
    "Using the outcome below, it clearly shows that the '0' outcome is the majority with 65.1% while the '1' outcome has a 34.9% turnout. This makes the dataset imbalanced."
   ]
  },
  {
   "cell_type": "code",
   "execution_count": 20,
   "metadata": {},
   "outputs": [],
   "source": [
    "X = diabetes_data_copy.drop(['Outcome'], axis=1)\n",
    "y = diabetes_data_copy['Outcome']"
   ]
  },
  {
   "cell_type": "code",
   "execution_count": 21,
   "metadata": {},
   "outputs": [],
   "source": [
    "# Handling imbalance by using Random Undersampling\n",
    "Random = imblearn.over_sampling.SMOTE(sampling_strategy='auto', k_neighbors=5, random_state=None, n_jobs=None) "
   ]
  },
  {
   "cell_type": "code",
   "execution_count": 22,
   "metadata": {},
   "outputs": [],
   "source": [
    "X_resampled, y_resampled = Random.fit_resample(X, y)"
   ]
  },
  {
   "cell_type": "code",
   "execution_count": 23,
   "metadata": {},
   "outputs": [
    {
     "name": "stdout",
     "output_type": "stream",
     "text": [
      "This is y total values Outcome\n",
      "0.0    500\n",
      "1.0    268\n",
      "Name: count, dtype: int64\n"
     ]
    }
   ],
   "source": [
    "print(f'This is y total values {y.value_counts()}')"
   ]
  },
  {
   "cell_type": "code",
   "execution_count": 24,
   "metadata": {},
   "outputs": [
    {
     "name": "stdout",
     "output_type": "stream",
     "text": [
      "This is y_resampled total values Outcome\n",
      "1.0    500\n",
      "0.0    500\n",
      "Name: count, dtype: int64\n"
     ]
    }
   ],
   "source": [
    "print(f'This is y_resampled total values {y_resampled.value_counts()}')"
   ]
  },
  {
   "cell_type": "code",
   "execution_count": 25,
   "metadata": {},
   "outputs": [
    {
     "name": "stdout",
     "output_type": "stream",
     "text": [
      "<class 'pandas.core.frame.DataFrame'>\n",
      "RangeIndex: 1000 entries, 0 to 999\n",
      "Data columns (total 8 columns):\n",
      " #   Column                    Non-Null Count  Dtype  \n",
      "---  ------                    --------------  -----  \n",
      " 0   Pregnancies               1000 non-null   float64\n",
      " 1   Glucose                   1000 non-null   float64\n",
      " 2   BloodPressure             1000 non-null   float64\n",
      " 3   SkinThickness             1000 non-null   float64\n",
      " 4   Insulin                   1000 non-null   float64\n",
      " 5   BMI                       1000 non-null   float64\n",
      " 6   DiabetesPedigreeFunction  1000 non-null   float64\n",
      " 7   Age                       1000 non-null   float64\n",
      "dtypes: float64(8)\n",
      "memory usage: 62.6 KB\n"
     ]
    }
   ],
   "source": [
    "X_resampled.info()"
   ]
  },
  {
   "cell_type": "code",
   "execution_count": 26,
   "metadata": {},
   "outputs": [
    {
     "name": "stdout",
     "output_type": "stream",
     "text": [
      "Pregnancies [1.77981247 1.         0.         1.37019572 1.40917681 1.75595574\n",
      " 1.49698212 1.38074182 1.27820665 1.48538123 1.38391414 1.66877963\n",
      " 0.47929699 1.34139167]\n",
      "Glucose [1.77981247 0.        ]\n",
      "BloodPressure [1.77981247 0.         1.67426765]\n",
      "SkinThickness [1.77981247 0.        ]\n",
      "Insulin [0.         1.77981247]\n",
      "BMI [1.77981247 0.        ]\n",
      "DiabetesPedigreeFunction [0.627      0.351      0.672      0.167      1.77981247 0.201\n",
      " 0.248      0.134      0.158      0.232      0.191      0.537\n",
      " 1.441      0.398      0.587      0.484      0.551      0.254\n",
      " 0.183      0.529      0.704      0.388      0.451      0.263\n",
      " 0.205      0.257      0.487      0.245      0.337      0.546\n",
      " 0.851      0.267      0.188      0.512      0.966      0.42\n",
      " 0.665      0.503      1.39       0.271      0.696      0.235\n",
      " 0.721      0.294      0.564      0.586      0.344      0.305\n",
      " 0.491      0.526      0.342      0.467      0.718      0.962\n",
      " 0.173      0.304      0.27       0.699      0.258      0.203\n",
      " 0.855      0.845      0.334      0.189      0.867      0.411\n",
      " 0.583      0.231      0.396      0.14       0.391      0.37\n",
      " 0.307      0.102      0.767      0.237      0.227      0.698\n",
      " 0.178      0.324      0.153      0.165      0.443      0.261\n",
      " 0.277      0.761      0.255      0.13       0.323      0.356\n",
      " 0.325      1.222      0.179      0.262      0.283      0.93\n",
      " 0.801      0.207      0.287      0.336      0.247      0.199\n",
      " 0.543      0.192      0.588      0.539      0.22       0.654\n",
      " 0.223      0.759      0.26       0.404      0.186      0.278\n",
      " 0.496      0.452      0.403      0.741      0.361      1.114\n",
      " 0.457      0.647      0.088      0.597      0.532      0.703\n",
      " 0.159      0.268      0.286      0.318      0.272      0.572\n",
      " 0.096      1.4        0.218      0.085      0.399      0.432\n",
      " 1.189      0.687      0.137      0.637      0.833      0.229\n",
      " 0.817      0.204      0.368      0.743      0.722      0.256\n",
      " 0.709      0.471      0.495      0.18       0.542      0.773\n",
      " 0.678      0.719      0.382      0.319      0.19       0.956\n",
      " 0.084      0.725      0.299      0.244      0.745      0.615\n",
      " 1.321      0.64       0.142      0.374      0.383      0.578\n",
      " 0.136      0.395      0.187      0.905      0.15       0.874\n",
      " 0.236      0.787      0.407      0.605      0.151      0.289\n",
      " 0.355      0.29       0.375      0.164      0.431      0.742\n",
      " 0.514      0.464      1.224      1.072      0.805      0.209\n",
      " 0.666      0.101      0.198      0.652      0.089      0.645\n",
      " 0.238      0.394      0.293      0.479      0.686      0.831\n",
      " 0.582      0.446      0.402      1.318      0.329      1.213\n",
      " 0.427      0.282      0.143      0.38       0.284      0.249\n",
      " 0.926      0.557      0.092      0.655      1.353      0.612\n",
      " 0.2        0.226      0.997      0.933      1.101      0.078\n",
      " 0.24       1.136      0.128      0.422      0.251      0.677\n",
      " 0.296      0.454      0.744      0.881      0.28       0.259\n",
      " 0.619      0.808      0.34       0.434      0.757      0.613\n",
      " 0.692      0.52       0.412      0.84       0.839      0.156\n",
      " 0.215      0.326      1.391      0.875      0.313      0.433\n",
      " 0.626      1.127      0.315      0.345      0.129      0.527\n",
      " 0.197      0.731      0.148      0.123      0.127      0.122\n",
      " 1.476      0.166      0.932      0.343      0.893      0.331\n",
      " 0.472      0.673      0.389      0.485      0.349      0.279\n",
      " 0.346      0.252      0.243      0.58       0.559      0.302\n",
      " 0.569      0.378      0.385      0.499      0.306      0.234\n",
      " 1.731      0.545      0.225      0.816      0.528      0.509\n",
      " 1.021      0.821      0.947      1.268      0.221      0.66\n",
      " 0.239      0.949      0.444      0.463      0.803      1.6\n",
      " 0.944      0.196      0.241      0.161      0.135      0.376\n",
      " 1.191      0.702      0.674      1.076      0.534      1.095\n",
      " 0.554      0.624      0.219      0.507      0.561      0.421\n",
      " 0.516      0.264      0.328      0.233      0.108      1.138\n",
      " 0.147      0.727      0.435      0.497      0.23       0.955\n",
      " 0.658      0.33       0.51       0.285      0.415      0.381\n",
      " 0.832      0.498      0.212      0.364      1.001      0.46\n",
      " 0.733      0.416      0.705      1.022      0.269      0.6\n",
      " 0.571      0.607      0.17       0.21       0.126      0.711\n",
      " 0.466      0.162      0.419      0.63       0.365      0.536\n",
      " 1.159      0.629      0.292      0.145      1.144      0.174\n",
      " 0.547      0.163      0.738      0.314      0.968      0.409\n",
      " 0.297      0.525      0.154      0.771      0.107      0.493\n",
      " 0.717      0.917      0.501      1.251      0.735      0.804\n",
      " 0.661      0.549      0.825      0.423      1.034      0.16\n",
      " 0.341      0.68       0.591      0.3        0.121      0.502\n",
      " 0.401      0.601      0.748      0.338      0.43       0.892\n",
      " 0.813      0.693      0.575      0.371      0.206      0.417\n",
      " 1.154      0.925      0.175      1.699      0.682      0.194\n",
      " 0.4        0.1        1.258      0.482      0.138      0.593\n",
      " 0.878      0.157      1.282      0.141      0.246      1.698\n",
      " 1.461      0.347      0.362      0.393      0.144      0.732\n",
      " 0.115      0.465      0.649      0.871      0.149      0.695\n",
      " 0.303      0.61       0.73       0.447      0.455      0.133\n",
      " 0.155      1.162      1.292      0.182      1.394      0.217\n",
      " 0.631      0.88       0.614      0.332      0.366      0.181\n",
      " 0.828      0.335      0.856      0.886      0.439      0.253\n",
      " 0.598      0.904      0.483      0.565      0.118      0.177\n",
      " 0.176      0.295      0.441      0.352      0.826      0.97\n",
      " 0.595      0.317      0.265      0.646      0.426      0.56\n",
      " 0.515      0.453      0.785      0.734      1.174      0.488\n",
      " 0.358      1.096      0.408      1.182      0.222      1.057\n",
      " 0.766      0.171      0.57540063 0.96824818 1.17957276 0.34044179\n",
      " 0.67684517 1.2089582  0.19518254 0.25776812 0.15667683 0.27951691\n",
      " 0.97079686 0.61260797 0.76366439 0.16155254 0.34449863 0.66630059\n",
      " 0.428024   0.25989074 0.30960259 0.85100626 0.44041661 0.37882439\n",
      " 0.87371493 1.31329691 0.26268152 0.25820756 1.1838533  0.61354769\n",
      " 0.42262322 1.0063013  0.52172711 0.21458294 0.27180825 0.16604023\n",
      " 0.2417406  0.78449345 0.72518579 0.23305833 0.23749736 0.25740671\n",
      " 0.26009583 0.28200862 0.16298345 0.71991131 0.21834665 0.59453048\n",
      " 0.4325194  0.63833125 0.50842437 0.38499035 0.26560912 0.2748943\n",
      " 0.24692514 0.64318153 0.39148458 0.2599621  0.71322089 0.5418974\n",
      " 0.20386407 0.58328628 0.73260563 0.43835314 0.72113657 0.58443878\n",
      " 0.55258178 1.32673708 0.327027   0.85556807 0.63473175 0.90015215\n",
      " 0.73055092 0.58576844 0.67911775 0.43422663 0.34475384 0.22370337\n",
      " 0.34416703 0.49156227 0.51479476 0.34451448 0.11999043 0.23738831\n",
      " 0.65934834 0.27798736 0.2270316  0.33447797 0.24093138 1.38506701\n",
      " 0.47979964 0.46424161 1.35617378 0.72508967 0.58729573 0.22935217\n",
      " 0.21340445 0.36776496 0.57038905 0.54566654 0.32727459 0.34572171\n",
      " 0.17684721 0.14341811 0.56414233 0.24587363 0.61800287 0.26604591\n",
      " 1.16413966 0.1575374  1.66675839 0.13403977 0.24468798 0.91213522\n",
      " 0.15116096 0.93235146 0.35949529 0.6792726  0.43761778 0.27740245\n",
      " 0.56573715 0.90944069 0.25110666 0.53641651 1.31583485 0.3599383\n",
      " 0.37864306 0.15391703 0.25759494 0.34132584 0.16549256 0.15051292\n",
      " 0.12718323 0.21011156 0.54256413 0.35493692 0.57507862 0.85246814\n",
      " 0.23371973 0.2838313  0.50178968 0.26007762 0.21640734 0.77342369\n",
      " 0.44217368 0.22891003 0.36041466 0.91744867 0.49203899 1.33886061\n",
      " 0.29093761 0.69165629 0.34751351 0.92920353 0.69446776 0.47333411\n",
      " 0.15284469 0.70899403 0.17671698 0.15186628 0.5216395  0.54146501\n",
      " 0.15948656 0.59295771 0.54494673 0.54232934 0.75207365 0.25541387\n",
      " 0.13346327 0.25248651 0.14081861 0.99301653 0.12759685 1.2013815\n",
      " 0.81585789 0.23725836 0.21152074 0.13592824 0.19167186 0.32079335\n",
      " 0.26545155 0.17954068 0.62278766 0.72889573 0.82406229 1.14782788\n",
      " 1.35547194 0.46346723 0.28232421 0.3813591  0.32655366 0.54571531\n",
      " 0.24725659 0.25212106 0.43161132 0.60063837 1.20961647 0.25883769\n",
      " 0.51436603 0.38922017 0.25654481 0.24690447 0.43419567 0.25752859\n",
      " 0.37304659 0.22563195 1.23835846 0.33053278 0.21048437 0.37965306\n",
      " 0.53742449 0.14956824 0.47551469 0.34118945 0.24328609 0.42870068\n",
      " 0.73302526 0.33234994 0.39691687 0.59038564 0.25935436 0.41117062\n",
      " 0.13850425 0.38813656 0.10594926]\n",
      "Age [1.77981247]\n"
     ]
    }
   ],
   "source": [
    "\n",
    "for k in X_resampled:\n",
    "    print(k, X_resampled[k].unique())\n"
   ]
  },
  {
   "cell_type": "markdown",
   "metadata": {},
   "source": [
    "## Feature Selection"
   ]
  },
  {
   "cell_type": "code",
   "execution_count": 27,
   "metadata": {},
   "outputs": [
    {
     "name": "stdout",
     "output_type": "stream",
     "text": [
      "0.624\n"
     ]
    }
   ],
   "source": [
    "# Model Creation with all the features\n",
    "from sklearn.model_selection import train_test_split\n",
    "from sklearn.feature_selection import RFE\n",
    "from sklearn.ensemble import RandomForestClassifier\n",
    "from sklearn.metrics import f1_score\n",
    "\n",
    "X_train, X_test, y_train, y_test = train_test_split(X_resampled, y_resampled, test_size=0.2, random_state=42)\n",
    "rfc = RandomForestClassifier(class_weight='balanced', n_estimators=100)\n",
    "\n",
    "# Fitting the model\n",
    "rfc.fit(X_train, y_train)\n",
    "\n",
    "# Making predictions\n",
    "preds = rfc.predict(X_test)\n",
    "\n",
    "# Evaluate the model using the F1-score\n",
    "f1_score_all = round(f1_score(y_test, preds, average='weighted'), 3)\n",
    "\n",
    "print(f1_score_all)"
   ]
  },
  {
   "cell_type": "markdown",
   "metadata": {},
   "source": [
    "### Recursive Feature Algorithm"
   ]
  },
  {
   "cell_type": "code",
   "execution_count": 28,
   "metadata": {},
   "outputs": [],
   "source": [
    "\n",
    "rfe_f1_score_list = []\n",
    "# Perfoem the Recursive Feature Technique\n",
    "for feature in range (1, 9):\n",
    "    RFESelector = RFE(estimator=rfc, n_features_to_select=feature, step=1)\n",
    "    RFESelector.fit(X_train, y_train)\n",
    "\n",
    "    #Filter the columns \n",
    "    filt_X_train = RFESelector.transform(X_train)\n",
    "    filt_X_test = RFESelector.transform(X_test)\n",
    "\n",
    "    #Fit the model\n",
    "    rfc.fit(filt_X_train, y_train)\n",
    "    #Prediction\n",
    "    predictions = rfc.predict(filt_X_test)\n",
    "\n",
    "    f1_score_rfe = round(f1_score(y_test, predictions, average='weighted'), 3)\n",
    "    \n",
    "    rfe_f1_score_list.append(f1_score_rfe)\n"
   ]
  },
  {
   "cell_type": "code",
   "execution_count": 29,
   "metadata": {},
   "outputs": [
    {
     "data": {
      "image/png": "[encoded data removed]",
      "text/plain": [
       "<Figure size 640x480 with 1 Axes>"
      ]
     },
     "metadata": {},
     "output_type": "display_data"
    }
   ],
   "source": [
    "fig, ax = plt.subplots()\n",
    "\n",
    "x = np.arange(1, 9)\n",
    "y = rfe_f1_score_list\n",
    "\n",
    "ax.bar(x, y, width=0.2)\n",
    "ax.set_xlabel('Number of features selected using RFE')\n",
    "ax.set_ylabel('F1-Score (weighted)')\n",
    "ax.set_ylim(0, 1.2)\n",
    "ax.set_xticks(np.arange(1, 9))\n",
    "ax.set_xticklabels(np.arange(1, 9), fontsize=12)\n",
    "\n",
    "for i, v in enumerate(y):\n",
    "    plt.text(x=i+1, y=v+0.05, s=str(v), ha='center')\n",
    "    \n",
    "plt.tight_layout()"
   ]
  },
  {
   "cell_type": "code",
   "execution_count": 30,
   "metadata": {},
   "outputs": [
    {
     "data": {
      "text/plain": [
       "Index(['Pregnancies', 'Glucose', 'BloodPressure', 'SkinThickness', 'Insulin',\n",
       "       'BMI', 'DiabetesPedigreeFunction', 'Age'],\n",
       "      dtype='object')"
      ]
     },
     "execution_count": 30,
     "metadata": {},
     "output_type": "execute_result"
    }
   ],
   "source": [
    "RFE_selector = RFE(estimator=rfc, n_features_to_select=8)\n",
    "RFE_selector.fit(X_train, y_train)\n",
    "\n",
    "selected_features_mask = RFE_selector.get_support()\n",
    "\n",
    "selected_features = X_train.columns[selected_features_mask]\n",
    "selected_features"
   ]
  },
  {
   "cell_type": "markdown",
   "metadata": {},
   "source": [
    "## Model Creation"
   ]
  },
  {
   "cell_type": "code",
   "execution_count": 31,
   "metadata": {},
   "outputs": [
    {
     "data": {
      "text/plain": [
       "0.624"
      ]
     },
     "execution_count": 31,
     "metadata": {},
     "output_type": "execute_result"
    }
   ],
   "source": [
    "X_train_selected = X_train[selected_features]\n",
    "X_test_selected = X_test[selected_features]\n",
    "\n",
    "rfc.fit(X_train_selected, y_train)\n",
    "\n",
    "# Save the trained model to a file\n",
    "joblib.dump(rfc, 'trained_model.joblib')\n",
    "\n",
    "predictions = rfc.predict(X_test_selected)\n",
    "\n",
    "f1_score_predictions = round(f1_score(y_test, predictions, average='weighted'), 3)\n",
    "f1_score_predictions"
   ]
  },
  {
   "cell_type": "code",
   "execution_count": null,
   "metadata": {},
   "outputs": [],
   "source": []
  }
 ],
 "metadata": {
  "kernelspec": {
   "display_name": "Python 3",
   "language": "python",
   "name": "python3"
  },
  "language_info": {
   "codemirror_mode": {
    "name": "ipython",
    "version": 3
   },
   "file_extension": ".py",
   "mimetype": "text/x-python",
   "name": "python",
   "nbconvert_exporter": "python",
   "pygments_lexer": "ipython3",
   "version": "3.11.4"
  }
 },
 "nbformat": 4,
 "nbformat_minor": 2
}
